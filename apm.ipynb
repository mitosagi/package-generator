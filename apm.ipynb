{
 "cells": [
  {
   "cell_type": "code",
   "execution_count": 3,
   "metadata": {},
   "outputs": [],
   "source": [
    "from ipywidgets import Textarea, HTML\n",
    "from jinja2 import Template\n",
    "\n",
    "button_template = Template(\"<textarea  onfocus='this.select();' cols='70' rows='10'>{{text|e}}</textarea>\")"
   ]
  },
  {
   "cell_type": "code",
   "execution_count": 11,
   "metadata": {},
   "outputs": [
    {
     "data": {
      "application/vnd.jupyter.widget-view+json": {
       "model_id": "912192c659754fec9fa0fc3c4975d924",
       "version_major": 2,
       "version_minor": 0
      },
      "text/plain": [
       "HTML(value=\"<textarea  onfocus='this.select();' cols='70' rows='10'>今回インストールするパッケージの圧縮ファイルから読み取ったメタデータです。\\narc…"
      ]
     },
     "execution_count": 11,
     "metadata": {},
     "output_type": "execute_result"
    }
   ],
   "source": [
    "# 1. URLと圧縮ファイルからGPT3.5入力用のプロンプトを作成します。\n",
    "from pri_summarize import pri_summarize\n",
    "pageURL = ['https://www.nicovideo.jp/watch/sm16915418']\n",
    "prompt = pri_summarize(pageURL)\n",
    "HTML(button_template.render(text=prompt))"
   ]
  },
  {
   "cell_type": "code",
   "execution_count": 12,
   "metadata": {},
   "outputs": [
    {
     "data": {
      "application/vnd.jupyter.widget-view+json": {
       "model_id": "7a67b7c02b0f48efafc6cf2f821f387f",
       "version_major": 2,
       "version_minor": 0
      },
      "text/plain": [
       "Textarea(value='')"
      ]
     },
     "metadata": {},
     "output_type": "display_data"
    }
   ],
   "source": [
    "# 2. GPT3.5の出力を以下の欄に貼り付けます。\n",
    "def get_input(change):\n",
    "    global GPT35out\n",
    "    GPT35out = change[\"new\"]\n",
    "textarea = Textarea()\n",
    "textarea.observe(get_input, names='value')\n",
    "display(textarea)"
   ]
  },
  {
   "cell_type": "code",
   "execution_count": 4,
   "metadata": {},
   "outputs": [
    {
     "ename": "NameError",
     "evalue": "name 'GPT35out' is not defined",
     "output_type": "error",
     "traceback": [
      "\u001b[0;31m---------------------------------------------------------------------------\u001b[0m",
      "\u001b[0;31mNameError\u001b[0m                                 Traceback (most recent call last)",
      "\u001b[1;32m/home/usr/projects/summarize-readme/apm.ipynb セル 4\u001b[0m line \u001b[0;36m3\n\u001b[1;32m      <a href='vscode-notebook-cell://wsl%2Bubuntu/home/usr/projects/summarize-readme/apm.ipynb#W3sdnNjb2RlLXJlbW90ZQ%3D%3D?line=0'>1</a>\u001b[0m \u001b[39m# 3. GPT4用のプロンプトを作成します。\u001b[39;00m\n\u001b[1;32m      <a href='vscode-notebook-cell://wsl%2Bubuntu/home/usr/projects/summarize-readme/apm.ipynb#W3sdnNjb2RlLXJlbW90ZQ%3D%3D?line=1'>2</a>\u001b[0m \u001b[39mfrom\u001b[39;00m \u001b[39mpri_infer\u001b[39;00m \u001b[39mimport\u001b[39;00m pri_infer\n\u001b[0;32m----> <a href='vscode-notebook-cell://wsl%2Bubuntu/home/usr/projects/summarize-readme/apm.ipynb#W3sdnNjb2RlLXJlbW90ZQ%3D%3D?line=2'>3</a>\u001b[0m prompt \u001b[39m=\u001b[39m pri_infer(GPT35out)\n\u001b[1;32m      <a href='vscode-notebook-cell://wsl%2Bubuntu/home/usr/projects/summarize-readme/apm.ipynb#W3sdnNjb2RlLXJlbW90ZQ%3D%3D?line=3'>4</a>\u001b[0m HTML(button_template\u001b[39m.\u001b[39mrender(text\u001b[39m=\u001b[39mprompt))\n",
      "\u001b[0;31mNameError\u001b[0m: name 'GPT35out' is not defined"
     ]
    }
   ],
   "source": [
    "# 3. GPT4用のプロンプトを作成します。\n",
    "from pri_infer import pri_infer\n",
    "prompt = pri_infer(GPT35out)\n",
    "HTML(button_template.render(text=prompt))"
   ]
  },
  {
   "cell_type": "code",
   "execution_count": 9,
   "metadata": {},
   "outputs": [
    {
     "data": {
      "application/vnd.jupyter.widget-view+json": {
       "model_id": "d7925115f49249bea2f067259618fe4a",
       "version_major": 2,
       "version_minor": 0
      },
      "text/plain": [
       "Textarea(value='')"
      ]
     },
     "metadata": {},
     "output_type": "display_data"
    }
   ],
   "source": [
    "# 4. GPT4の出力を以下の欄に貼り付けます。\n",
    "def get_input(change):\n",
    "    global GPT4out\n",
    "    GPT4out = change[\"new\"]\n",
    "textarea = Textarea()\n",
    "textarea.observe(get_input, names='value')\n",
    "display(textarea)"
   ]
  },
  {
   "cell_type": "code",
   "execution_count": 12,
   "metadata": {},
   "outputs": [
    {
     "data": {
      "application/vnd.jupyter.widget-view+json": {
       "model_id": "1b50b05cf8e14f16ac569e548e022c5f",
       "version_major": 2,
       "version_minor": 0
      },
      "text/plain": [
       "HTML(value=\"<textarea  onfocus='this.select();' cols='70' rows='10'>{\\n  &#34;id&#34;: &#34;YaseiP/FireworkScr…"
      ]
     },
     "execution_count": 12,
     "metadata": {},
     "output_type": "execute_result"
    }
   ],
   "source": [
    "from post_infer import post_infer\n",
    "import json\n",
    "prompt = json.dumps(post_infer(GPT4out), indent=2, ensure_ascii=False)\n",
    "HTML(button_template.render(text=prompt))"
   ]
  },
  {
   "cell_type": "code",
   "execution_count": null,
   "metadata": {},
   "outputs": [],
   "source": []
  }
 ],
 "metadata": {
  "kernelspec": {
   "display_name": ".venv",
   "language": "python",
   "name": "python3"
  },
  "language_info": {
   "codemirror_mode": {
    "name": "ipython",
    "version": 3
   },
   "file_extension": ".py",
   "mimetype": "text/x-python",
   "name": "python",
   "nbconvert_exporter": "python",
   "pygments_lexer": "ipython3",
   "version": "3.10.12"
  },
  "orig_nbformat": 4
 },
 "nbformat": 4,
 "nbformat_minor": 2
}
