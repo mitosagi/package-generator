{
  "cells": [
    {
      "cell_type": "code",
      "execution_count": 8,
      "metadata": {
        "id": "mSTUL1qmYVuQ"
      },
      "outputs": [],
      "source": [
        "# @markdown # AIによりapmのパッケージデータを生成するデモ\n",
        "# @markdown 初期設定用のセルです。\n",
        "%%capture\n",
        "!git clone https://github.com/mitosagi/summarize-readme\n",
        "%cd /content/summarize-readme\n",
        "!pip install -qr requirements.txt\n",
        "!playwright install-deps\n",
        "!playwright install webkit\n",
        "\n",
        "from ipywidgets import Textarea, HTML\n",
        "from jinja2 import Template\n",
        "\n",
        "button_template = Template(\"<textarea  onfocus='this.select();' cols='70' rows='10'>{{text|e}}</textarea>\")"
      ]
    },
    {
      "cell_type": "code",
      "source": [
        "# @markdown # 1. 説明文の要約(GPT3.5)\n",
        "# @markdown 以下のURLから説明文を抽出します。\n",
        "pageURL = 'https://www.nicovideo.jp/watch/sm41446069' # @param {type:\"string\"}\n",
        "\n",
        "from google.colab import files\n",
        "print('パッケージの圧縮ファイルをアップロードしてください。')\n",
        "archivePath = [key for key in files.upload().keys()][0]\n",
        "\n",
        "print('以下のプロンプトをGPT3.5相当のLLMにて実行してください。')\n",
        "from pri_summarize import pri_summarize\n",
        "prompt = pri_summarize([pageURL], archivePath)\n",
        "HTML(button_template.render(text=prompt))\n"
      ],
      "metadata": {
        "colab": {
          "base_uri": "https://localhost:8080/",
          "height": 262,
          "referenced_widgets": [
            "9cdd87e2375245feaae9d08613607913",
            "da394316b26e4d84bb0e863775c6c4ae",
            "c808abfb9ae8453a9f2fad245977b4ab"
          ]
        },
        "id": "UW2gac-SZuWc",
        "outputId": "0d099520-2349-4dc1-9098-3d07fbb00be2"
      },
      "execution_count": 9,
      "outputs": [
        {
          "output_type": "stream",
          "name": "stdout",
          "text": [
            "パッケージの圧縮ファイルをアップロードしてください。\n"
          ]
        },
        {
          "output_type": "display_data",
          "data": {
            "text/plain": [
              "<IPython.core.display.HTML object>"
            ],
            "text/html": [
              "\n",
              "     <input type=\"file\" id=\"files-89e003e9-b754-43f4-bb88-dd730ebb5f72\" name=\"files[]\" multiple disabled\n",
              "        style=\"border:none\" />\n",
              "     <output id=\"result-89e003e9-b754-43f4-bb88-dd730ebb5f72\">\n",
              "      Upload widget is only available when the cell has been executed in the\n",
              "      current browser session. Please rerun this cell to enable.\n",
              "      </output>\n",
              "      <script>// Copyright 2017 Google LLC\n",
              "//\n",
              "// Licensed under the Apache License, Version 2.0 (the \"License\");\n",
              "// you may not use this file except in compliance with the License.\n",
              "// You may obtain a copy of the License at\n",
              "//\n",
              "//      http://www.apache.org/licenses/LICENSE-2.0\n",
              "//\n",
              "// Unless required by applicable law or agreed to in writing, software\n",
              "// distributed under the License is distributed on an \"AS IS\" BASIS,\n",
              "// WITHOUT WARRANTIES OR CONDITIONS OF ANY KIND, either express or implied.\n",
              "// See the License for the specific language governing permissions and\n",
              "// limitations under the License.\n",
              "\n",
              "/**\n",
              " * @fileoverview Helpers for google.colab Python module.\n",
              " */\n",
              "(function(scope) {\n",
              "function span(text, styleAttributes = {}) {\n",
              "  const element = document.createElement('span');\n",
              "  element.textContent = text;\n",
              "  for (const key of Object.keys(styleAttributes)) {\n",
              "    element.style[key] = styleAttributes[key];\n",
              "  }\n",
              "  return element;\n",
              "}\n",
              "\n",
              "// Max number of bytes which will be uploaded at a time.\n",
              "const MAX_PAYLOAD_SIZE = 100 * 1024;\n",
              "\n",
              "function _uploadFiles(inputId, outputId) {\n",
              "  const steps = uploadFilesStep(inputId, outputId);\n",
              "  const outputElement = document.getElementById(outputId);\n",
              "  // Cache steps on the outputElement to make it available for the next call\n",
              "  // to uploadFilesContinue from Python.\n",
              "  outputElement.steps = steps;\n",
              "\n",
              "  return _uploadFilesContinue(outputId);\n",
              "}\n",
              "\n",
              "// This is roughly an async generator (not supported in the browser yet),\n",
              "// where there are multiple asynchronous steps and the Python side is going\n",
              "// to poll for completion of each step.\n",
              "// This uses a Promise to block the python side on completion of each step,\n",
              "// then passes the result of the previous step as the input to the next step.\n",
              "function _uploadFilesContinue(outputId) {\n",
              "  const outputElement = document.getElementById(outputId);\n",
              "  const steps = outputElement.steps;\n",
              "\n",
              "  const next = steps.next(outputElement.lastPromiseValue);\n",
              "  return Promise.resolve(next.value.promise).then((value) => {\n",
              "    // Cache the last promise value to make it available to the next\n",
              "    // step of the generator.\n",
              "    outputElement.lastPromiseValue = value;\n",
              "    return next.value.response;\n",
              "  });\n",
              "}\n",
              "\n",
              "/**\n",
              " * Generator function which is called between each async step of the upload\n",
              " * process.\n",
              " * @param {string} inputId Element ID of the input file picker element.\n",
              " * @param {string} outputId Element ID of the output display.\n",
              " * @return {!Iterable<!Object>} Iterable of next steps.\n",
              " */\n",
              "function* uploadFilesStep(inputId, outputId) {\n",
              "  const inputElement = document.getElementById(inputId);\n",
              "  inputElement.disabled = false;\n",
              "\n",
              "  const outputElement = document.getElementById(outputId);\n",
              "  outputElement.innerHTML = '';\n",
              "\n",
              "  const pickedPromise = new Promise((resolve) => {\n",
              "    inputElement.addEventListener('change', (e) => {\n",
              "      resolve(e.target.files);\n",
              "    });\n",
              "  });\n",
              "\n",
              "  const cancel = document.createElement('button');\n",
              "  inputElement.parentElement.appendChild(cancel);\n",
              "  cancel.textContent = 'Cancel upload';\n",
              "  const cancelPromise = new Promise((resolve) => {\n",
              "    cancel.onclick = () => {\n",
              "      resolve(null);\n",
              "    };\n",
              "  });\n",
              "\n",
              "  // Wait for the user to pick the files.\n",
              "  const files = yield {\n",
              "    promise: Promise.race([pickedPromise, cancelPromise]),\n",
              "    response: {\n",
              "      action: 'starting',\n",
              "    }\n",
              "  };\n",
              "\n",
              "  cancel.remove();\n",
              "\n",
              "  // Disable the input element since further picks are not allowed.\n",
              "  inputElement.disabled = true;\n",
              "\n",
              "  if (!files) {\n",
              "    return {\n",
              "      response: {\n",
              "        action: 'complete',\n",
              "      }\n",
              "    };\n",
              "  }\n",
              "\n",
              "  for (const file of files) {\n",
              "    const li = document.createElement('li');\n",
              "    li.append(span(file.name, {fontWeight: 'bold'}));\n",
              "    li.append(span(\n",
              "        `(${file.type || 'n/a'}) - ${file.size} bytes, ` +\n",
              "        `last modified: ${\n",
              "            file.lastModifiedDate ? file.lastModifiedDate.toLocaleDateString() :\n",
              "                                    'n/a'} - `));\n",
              "    const percent = span('0% done');\n",
              "    li.appendChild(percent);\n",
              "\n",
              "    outputElement.appendChild(li);\n",
              "\n",
              "    const fileDataPromise = new Promise((resolve) => {\n",
              "      const reader = new FileReader();\n",
              "      reader.onload = (e) => {\n",
              "        resolve(e.target.result);\n",
              "      };\n",
              "      reader.readAsArrayBuffer(file);\n",
              "    });\n",
              "    // Wait for the data to be ready.\n",
              "    let fileData = yield {\n",
              "      promise: fileDataPromise,\n",
              "      response: {\n",
              "        action: 'continue',\n",
              "      }\n",
              "    };\n",
              "\n",
              "    // Use a chunked sending to avoid message size limits. See b/62115660.\n",
              "    let position = 0;\n",
              "    do {\n",
              "      const length = Math.min(fileData.byteLength - position, MAX_PAYLOAD_SIZE);\n",
              "      const chunk = new Uint8Array(fileData, position, length);\n",
              "      position += length;\n",
              "\n",
              "      const base64 = btoa(String.fromCharCode.apply(null, chunk));\n",
              "      yield {\n",
              "        response: {\n",
              "          action: 'append',\n",
              "          file: file.name,\n",
              "          data: base64,\n",
              "        },\n",
              "      };\n",
              "\n",
              "      let percentDone = fileData.byteLength === 0 ?\n",
              "          100 :\n",
              "          Math.round((position / fileData.byteLength) * 100);\n",
              "      percent.textContent = `${percentDone}% done`;\n",
              "\n",
              "    } while (position < fileData.byteLength);\n",
              "  }\n",
              "\n",
              "  // All done.\n",
              "  yield {\n",
              "    response: {\n",
              "      action: 'complete',\n",
              "    }\n",
              "  };\n",
              "}\n",
              "\n",
              "scope.google = scope.google || {};\n",
              "scope.google.colab = scope.google.colab || {};\n",
              "scope.google.colab._files = {\n",
              "  _uploadFiles,\n",
              "  _uploadFilesContinue,\n",
              "};\n",
              "})(self);\n",
              "</script> "
            ]
          },
          "metadata": {}
        },
        {
          "output_type": "stream",
          "name": "stdout",
          "text": [
            "Saving 模様.zip to 模様 (1).zip\n",
            "以下のプロンプトをGPT3.5相当のLLMにて実行してください。\n"
          ]
        },
        {
          "output_type": "display_data",
          "data": {
            "text/plain": [
              "HTML(value=\"<textarea  onfocus='this.select();' cols='70' rows='10'>今回インストールするパッケージの圧縮ファイルから読み取ったメタデータです。\\narc…"
            ],
            "application/vnd.jupyter.widget-view+json": {
              "version_major": 2,
              "version_minor": 0,
              "model_id": "9cdd87e2375245feaae9d08613607913"
            }
          },
          "metadata": {}
        }
      ]
    },
    {
      "cell_type": "code",
      "execution_count": 10,
      "metadata": {
        "colab": {
          "base_uri": "https://localhost:8080/",
          "height": 184,
          "referenced_widgets": [
            "5a6daf51d2a74f00a5c62607efc5ea9a",
            "1dd8935115b1412fb5ba112448b403ab",
            "0a23e813ffb34ea181126679d7ece9a5"
          ]
        },
        "id": "_AoWqV-WYVuS",
        "outputId": "98ab61ce-7901-4c7e-94e1-5377bbe24c6f"
      },
      "outputs": [
        {
          "output_type": "stream",
          "name": "stdout",
          "text": [
            "以下のプロンプトをGPT4相当のpythonインタプリタ付きLLMにて実行してください。\n"
          ]
        },
        {
          "output_type": "display_data",
          "data": {
            "text/plain": [
              "HTML(value=\"<textarea  onfocus='this.select();' cols='70' rows='10'>以下はjson schemaです。\\n{&#34;type&#34;:&#34;ob…"
            ],
            "application/vnd.jupyter.widget-view+json": {
              "version_major": 2,
              "version_minor": 0,
              "model_id": "5a6daf51d2a74f00a5c62607efc5ea9a"
            }
          },
          "metadata": {}
        }
      ],
      "source": [
        "# @markdown # 2. データの生成(GPT4)\n",
        "# @markdown GPT3.5相当のLLMによる出力を以下の欄に貼り付けてください。\n",
        "GPT35out = '\\u63D0\\u4F9B\\u3055\\u308C\\u305F\\u60C5\\u5831\\u304B\\u3089\\u3001\\u30D1\\u30C3\\u30B1\\u30FC\\u30B8\\u306B\\u95A2\\u3059\\u308B\\u4EE5\\u4E0B\\u306E\\u5185\\u5BB9\\u3092\\u629C\\u304D\\u51FA\\u3057\\u307E\\u3059\\uFF1A  - \\u540D\\u524D: \\u6A21\\u69D8\\u30B9\\u30AF\\u30EA\\u30D7\\u30C8 - \\u4F5C\\u8005\\u540D: gometh - \\u8AAC\\u660E: \\u60C5\\u3051\\u306A\\u3044\\u7DE8\\u96C6\\u8061\\u305A\\u304B\\u3057\\u304F\\u306A\\u3044\\u306E\\uFF1F\\uFF08\\u7121\\u6C17\\u529B\\uFF09\\u30B9\\u30C8\\u30E9\\u30A4\\u30D7\\u3001\\u683C\\u5B50\\u3001\\u5E02\\u677E\\u6A21\\u69D8\\u3001\\u6C34\\u7389\\u306E4\\u7A2E\\u3092\\u5B9F\\u88C5\\u3057\\u3066\\u3044\\u307E\\u3059\\u3002 - \\u30A4\\u30F3\\u30B9\\u30C8\\u30FC\\u30EB\\u3059\\u308B\\u306B\\u3042\\u305F\\u308A\\u53C2\\u8003\\u306B\\u306A\\u308B\\u60C5\\u5831: \\u30C0\\u30A6\\u30F3\\u30ED\\u30FC\\u30C9\\u306F\\u3053\\u3061\\u3089\\u304B\\u3089\\u2192 [\\u30C0\\u30A6\\u30F3\\u30ED\\u30FC\\u30C9\\u30EA\\u30F3\\u30AF](https://drive.google.com/file/d/1gDjg7omiiDxlKTuwRFopw-ySEjIO1qgE/view?usp=sharing) - \\u30A4\\u30F3\\u30B9\\u30C8\\u30FC\\u30EB\\u3059\\u308B\\u624B\\u9806: \\u5177\\u4F53\\u7684\\u306A\\u30A4\\u30F3\\u30B9\\u30C8\\u30FC\\u30EB\\u624B\\u9806\\u306F\\u63D0\\u4F9B\\u3055\\u308C\\u3066\\u3044\\u307E\\u305B\\u3093\\u304C\\u3001\\u30C0\\u30A6\\u30F3\\u30ED\\u30FC\\u30C9\\u30EA\\u30F3\\u30AF\\u304B\\u3089\\u30D5\\u30A1\\u30A4\\u30EB\\u3092\\u5165\\u624B\\u3057\\u3001AviUtl\\u306B\\u7D44\\u307F\\u8FBC\\u3080\\u3053\\u3068\\u304C\\u3067\\u304D\\u308B\\u3067\\u3057\\u3087\\u3046\\u3002 - \\u4F9D\\u5B58\\u3059\\u308BAviUtl\\u3084\\u62E1\\u5F35\\u7DE8\\u96C6\\u3084\\u305D\\u306E\\u4ED6\\u8981\\u7D20\\u306E\\u30D0\\u30FC\\u30B8\\u30E7\\u30F3\\u7B49: \\u63D0\\u4F9B\\u3055\\u308C\\u3066\\u3044\\u307E\\u305B\\u3093\\u3002 - \\u4F9D\\u5B58\\u3059\\u308BVisual C++ \\u518D\\u9812\\u5E03\\u53EF\\u80FD\\u30D1\\u30C3\\u30B1\\u30FC\\u30B8: \\u63D0\\u4F9B\\u3055\\u308C\\u3066\\u3044\\u307E\\u305B\\u3093\\u3002 - patch.aul\\u306E\\u5C0E\\u5165\\u304C\\u5FC5\\u8981\\u304B: \\u63D0\\u4F9B\\u3055\\u308C\\u3066\\u3044\\u307E\\u305B\\u3093\\u3002  \\u3053\\u306E\\u60C5\\u5831\\u306B\\u57FA\\u3065\\u3044\\u3066\\u3001\\u30D1\\u30C3\\u30B1\\u30FC\\u30B8\\u306E\\u540D\\u524D\\u3001\\u4F5C\\u8005\\u540D\\u3001\\u8AAC\\u660E\\u3001\\u30C0\\u30A6\\u30F3\\u30ED\\u30FC\\u30C9\\u30EA\\u30F3\\u30AF\\u3001\\u304A\\u3088\\u3073\\u30A4\\u30F3\\u30B9\\u30C8\\u30FC\\u30EB\\u624B\\u9806\\u304C\\u629C\\u304D\\u51FA\\u305B\\u307E\\u3059\\u304C\\u3001\\u4ED6\\u306E\\u8A73\\u7D30\\u60C5\\u5831\\u306F\\u63D0\\u4F9B\\u3055\\u308C\\u3066\\u3044\\u306A\\u3044\\u3088\\u3046\\u3067\\u3059\\u3002\\u4F9D\\u5B58\\u95A2\\u4FC2\\u3084\\u30D0\\u30FC\\u30B8\\u30E7\\u30F3\\u60C5\\u5831\\u3001\\u5FC5\\u8981\\u306A\\u30D1\\u30C3\\u30B1\\u30FC\\u30B8\\u306B\\u3064\\u3044\\u3066\\u306F\\u3001\\u516C\\u5F0F\\u30B5\\u30A4\\u30C8\\u3084\\u63D0\\u4F9B\\u5143\\u306E\\u60C5\\u5831\\u3092\\u78BA\\u8A8D\\u3059\\u308B\\u5FC5\\u8981\\u304C\\u3042\\u308A\\u307E\\u3059\\u3002' # @param {type:\"string\"}\n",
        "from pri_infer import pri_infer\n",
        "prompt = pri_infer(GPT35out)\n",
        "print('以下のプロンプトをGPT4相当のpythonインタプリタ付きLLMにて実行してください。')\n",
        "HTML(button_template.render(text=prompt))"
      ]
    },
    {
      "cell_type": "code",
      "execution_count": 14,
      "metadata": {
        "colab": {
          "base_uri": "https://localhost:8080/",
          "height": 184,
          "referenced_widgets": [
            "f69ab11a7d07488f80c8dfcb1d51a3b9",
            "7e6d0e1fcc5240758c8835f2f8325cf7",
            "3446e2f1f08245ddbc95bc44dbce8e72"
          ]
        },
        "id": "XKitIezHYVuT",
        "outputId": "5331cc56-83c5-4d28-a667-4214bbb31eb4"
      },
      "outputs": [
        {
          "output_type": "stream",
          "name": "stdout",
          "text": [
            "インストール用のデータが完成しました。\n"
          ]
        },
        {
          "output_type": "display_data",
          "data": {
            "text/plain": [
              "HTML(value=\"<textarea  onfocus='this.select();' cols='70' rows='10'>{\\n  &#34;id&#34;: &#34;gometh/PatternScri…"
            ],
            "application/vnd.jupyter.widget-view+json": {
              "version_major": 2,
              "version_minor": 0,
              "model_id": "f69ab11a7d07488f80c8dfcb1d51a3b9"
            }
          },
          "metadata": {}
        }
      ],
      "source": [
        "# @markdown # 3. 後処理\n",
        "# @markdown GPT4相当のLLMによる出力を以下の欄に貼り付けてください。\n",
        "GPT4out = \"{     \\\"id\\\": \\\"gometh/PatternScript\\\",     \\\"name\\\": \\\"\\u6A21\\u69D8\\u30B9\\u30AF\\u30EA\\u30D7\\u30C8\\\",     \\\"overview\\\": \\\"4\\u7A2E\\u985E\\u306E\\u6A21\\u69D8\\u3092\\u5B9F\\u88C5\\u3059\\u308B\\u30D1\\u30C3\\u30B1\\u30FC\\u30B8\\\",     \\\"description\\\": \\\"\\u3053\\u306E\\u30D1\\u30C3\\u30B1\\u30FC\\u30B8\\u306F\\u7DE8\\u96C6\\u306B\\u60C5\\u3051\\u306A\\u3055\\u3092\\u611F\\u3058\\u3055\\u305B\\u308B\\u304B\\u3082\\u3057\\u308C\\u307E\\u305B\\u3093\\u304C\\u3001\\u30B9\\u30C8\\u30E9\\u30A4\\u30D7\\u3001\\u683C\\u5B50\\u3001\\u5E02\\u677E\\u6A21\\u69D8\\u3001\\u6C34\\u7389\\u306E4\\u7A2E\\u985E\\u306E\\u6A21\\u69D8\\u3092\\u5B9F\\u88C5\\u3057\\u3066\\u304A\\u308A\\u3001\\u30C0\\u30A6\\u30F3\\u30ED\\u30FC\\u30C9\\u306F[\\u3053\\u3061\\u3089](https://drive.google.com/file/d/1gDjg7omiiDxlKTuwRFopw-ySEjIO1qgE/view?usp=sharing)\\u304B\\u3089\\u53EF\\u80FD\\u3067\\u3059\\u3002\\u30A4\\u30F3\\u30B9\\u30C8\\u30FC\\u30EB\\u624B\\u9806\\u306F\\u63D0\\u4F9B\\u3055\\u308C\\u3066\\u3044\\u307E\\u305B\\u3093\\u304C\\u3001\\u30C0\\u30A6\\u30F3\\u30ED\\u30FC\\u30C9\\u30EA\\u30F3\\u30AF\\u304B\\u3089\\u30D5\\u30A1\\u30A4\\u30EB\\u3092\\u53D6\\u5F97\\u3057\\u3001AviUtl\\u306B\\u7D44\\u307F\\u8FBC\\u3080\\u3053\\u3068\\u304C\\u53EF\\u80FD\\u3067\\u3059\\u3002\\\",     \\\"developer\\\": \\\"gometh\\\",     \\\"dependencies\\\": [],     \\\"latestVersion\\\": \\\"2023/09/24\\\",     \\\"files\\\": [         {             \\\"filename\\\": \\\"script/gometh/\\u6A21\\u69D8.anm\\\"         }     ] }\" # @param {type:\"string\"}\n",
        "from post_infer import post_infer\n",
        "import json\n",
        "prompt = json.dumps(post_infer(GPT4out), indent=2, ensure_ascii=False)\n",
        "print('インストール用のデータが完成しました。')\n",
        "HTML(button_template.render(text=prompt))"
      ]
    },
    {
      "cell_type": "code",
      "source": [],
      "metadata": {
        "id": "UU6eORyw3YHN"
      },
      "execution_count": null,
      "outputs": []
    }
  ],
  "metadata": {
    "kernelspec": {
      "display_name": ".venv",
      "language": "python",
      "name": "python3"
    },
    "language_info": {
      "codemirror_mode": {
        "name": "ipython",
        "version": 3
      },
      "file_extension": ".py",
      "mimetype": "text/x-python",
      "name": "python",
      "nbconvert_exporter": "python",
      "pygments_lexer": "ipython3",
      "version": "3.10.12"
    },
    "orig_nbformat": 4,
    "colab": {
      "provenance": []
    },
    "widgets": {
      "application/vnd.jupyter.widget-state+json": {
        "9cdd87e2375245feaae9d08613607913": {
          "model_module": "@jupyter-widgets/controls",
          "model_name": "HTMLModel",
          "model_module_version": "1.5.0",
          "state": {
            "_dom_classes": [],
            "_model_module": "@jupyter-widgets/controls",
            "_model_module_version": "1.5.0",
            "_model_name": "HTMLModel",
            "_view_count": null,
            "_view_module": "@jupyter-widgets/controls",
            "_view_module_version": "1.5.0",
            "_view_name": "HTMLView",
            "description": "",
            "description_tooltip": null,
            "layout": "IPY_MODEL_da394316b26e4d84bb0e863775c6c4ae",
            "placeholder": "​",
            "style": "IPY_MODEL_c808abfb9ae8453a9f2fad245977b4ab",
            "value": "<textarea  onfocus='this.select();' cols='70' rows='10'>今回インストールするパッケージの圧縮ファイルから読み取ったメタデータです。\narchiveModificationTime: 2023/09/24\narchiveName: 模様 (1).zip\nfiles:\n- 模様.anm\nfolders: []\npageURL:\n- https://www.nicovideo.jp/watch/sm41446069\n\n----------------\n公式サイトの説明です。\n&lt;?xml version=&#34;1.0&#34; encoding=&#34;UTF-8&#34;?&gt;\n&lt;nicovideo_thumb_response status=&#34;ok&#34;&gt;\n  &lt;thumb&gt;\n    &lt;video_id&gt;sm41446069&lt;/video_id&gt;\n    &lt;title&gt;【AviUtl】模様スクリプト【LuaJIT】&lt;/title&gt;\n    &lt;description&gt;情けない編集聡ずかしくないの？（無気力）ストライプ、格子、市松模様、水玉の4種を実装しています。 ダウンロードはこちらから→ https://drive.google.com/file/d/1gDjg7omiiDxlKTuwRFopw-ySEjIO1qgE/view?usp=sharing mylist/55813730&lt;/description&gt;\n    &lt;thumbnail_url&gt;https://nicovideo.cdn.nimg.jp/thumbnails/41446069/41446069.85661149&lt;/thumbnail_url&gt;\n    &lt;first_retrieve&gt;2022-12-01T01:59:02+09:00&lt;/first_retrieve&gt;\n    &lt;length&gt;1:20&lt;/length&gt;\n    &lt;movie_type&gt;mp4&lt;/movie_type&gt;\n    &lt;size_high&gt;1&lt;/size_high&gt;\n    &lt;size_low&gt;1&lt;/size_low&gt;\n    &lt;view_counter&gt;3614&lt;/view_counter&gt;\n    &lt;comment_num&gt;37&lt;/comment_num&gt;\n    &lt;mylist_counter&gt;85&lt;/mylist_counter&gt;\n    &lt;last_res_body&gt;めっちゃべんりなやつ しゅっげぇ DLLは作れないのにLua めちゃくちゃほしかっ DXのフラットゾーンの 「すげえ…」って打と 8... &lt;/last_res_body&gt;\n    &lt;watch_url&gt;https://www.nicovideo.jp/watch/sm41446069&lt;/watch_url&gt;\n    &lt;thumb_type&gt;video&lt;/thumb_type&gt;\n    &lt;embeddable&gt;1&lt;/embeddable&gt;\n    &lt;no_live_play&gt;0&lt;/no_live_play&gt;\n    &lt;tags domain=&#34;jp&#34;&gt;\n      &lt;tag lock=&#34;1&#34;&gt;AviUtl&lt;/tag&gt;\n      &lt;tag lock=&#34;1&#34;&gt;AviUtlスクリプト講座&lt;/tag&gt;\n      &lt;tag lock=&#34;1&#34;&gt;作ってみた&lt;/tag&gt;\n      &lt;tag&gt;aviutlスクリプト配布あり&lt;/tag&gt;\n      &lt;tag&gt;武器商人&lt;/tag&gt;\n      &lt;tag&gt;今週の技術革新&lt;/tag&gt;\n    &lt;/tags&gt;\n    &lt;genre&gt;技術・工作&lt;/genre&gt;\n    &lt;user_id&gt;4739587&lt;/user_id&gt;\n    &lt;user_nickname&gt;gometh&lt;/user_nickname&gt;\n    &lt;user_icon_url&gt;https://secure-dcdn.cdn.nimg.jp/nicoaccount/usericon/s/473/4739587.jpg?1639222093&lt;/user_icon_url&gt;\n  &lt;/thumb&gt;\n&lt;/nicovideo_thumb_response&gt;\n----------------\n圧縮ファイルに含まれるReadmeファイルの説明です。\n\n----------------\nここまでがパッケージの情報です。ここからは天才でありどんな仕事でもできるあなたへのお願いです。\nこのパッケージについて以下の内容を含む文章を抜き出してください。不明の場合は不明と書いてください。\n- 名前\n- 作者名\n- 300文字以内の説明\n- インストールするにあたり参考になる情報\n- インストールする手順\n- 依存するAviUtlや拡張編集やその他要素のバージョン等を含む文\n- 依存するVisual C++ 再頒布可能パッケージ\n- patch.aulの導入が必要か\n</textarea>"
          }
        },
        "da394316b26e4d84bb0e863775c6c4ae": {
          "model_module": "@jupyter-widgets/base",
          "model_name": "LayoutModel",
          "model_module_version": "1.2.0",
          "state": {
            "_model_module": "@jupyter-widgets/base",
            "_model_module_version": "1.2.0",
            "_model_name": "LayoutModel",
            "_view_count": null,
            "_view_module": "@jupyter-widgets/base",
            "_view_module_version": "1.2.0",
            "_view_name": "LayoutView",
            "align_content": null,
            "align_items": null,
            "align_self": null,
            "border": null,
            "bottom": null,
            "display": null,
            "flex": null,
            "flex_flow": null,
            "grid_area": null,
            "grid_auto_columns": null,
            "grid_auto_flow": null,
            "grid_auto_rows": null,
            "grid_column": null,
            "grid_gap": null,
            "grid_row": null,
            "grid_template_areas": null,
            "grid_template_columns": null,
            "grid_template_rows": null,
            "height": null,
            "justify_content": null,
            "justify_items": null,
            "left": null,
            "margin": null,
            "max_height": null,
            "max_width": null,
            "min_height": null,
            "min_width": null,
            "object_fit": null,
            "object_position": null,
            "order": null,
            "overflow": null,
            "overflow_x": null,
            "overflow_y": null,
            "padding": null,
            "right": null,
            "top": null,
            "visibility": null,
            "width": null
          }
        },
        "c808abfb9ae8453a9f2fad245977b4ab": {
          "model_module": "@jupyter-widgets/controls",
          "model_name": "DescriptionStyleModel",
          "model_module_version": "1.5.0",
          "state": {
            "_model_module": "@jupyter-widgets/controls",
            "_model_module_version": "1.5.0",
            "_model_name": "DescriptionStyleModel",
            "_view_count": null,
            "_view_module": "@jupyter-widgets/base",
            "_view_module_version": "1.2.0",
            "_view_name": "StyleView",
            "description_width": ""
          }
        },
        "5a6daf51d2a74f00a5c62607efc5ea9a": {
          "model_module": "@jupyter-widgets/controls",
          "model_name": "HTMLModel",
          "model_module_version": "1.5.0",
          "state": {
            "_dom_classes": [],
            "_model_module": "@jupyter-widgets/controls",
            "_model_module_version": "1.5.0",
            "_model_name": "HTMLModel",
            "_view_count": null,
            "_view_module": "@jupyter-widgets/controls",
            "_view_module_version": "1.5.0",
            "_view_name": "HTMLView",
            "description": "",
            "description_tooltip": null,
            "layout": "IPY_MODEL_1dd8935115b1412fb5ba112448b403ab",
            "placeholder": "​",
            "style": "IPY_MODEL_0a23e813ffb34ea181126679d7ece9a5",
            "value": "<textarea  onfocus='this.select();' cols='70' rows='10'>以下はjson schemaです。\n{&#34;type&#34;:&#34;object&#34;,&#34;properties&#34;:{&#34;id&#34;:{&#34;type&#34;:&#34;string&#34;,&#34;pattern&#34;:&#34;^[a-zA-Z0-9]+/[a-zA-Z0-9]+$&#34;,&#34;description&#34;:&#34;The ID of the package (Non-duplicated alphanumeric characters. Use a file name that represents the package. If there is no representative name, use the archive file name. If there is a possibility of duplication, such as only one word, prefix it with the developer&#39;s name.)&#34;},&#34;name&#34;:{&#34;type&#34;:&#34;string&#34;,&#34;maxLength&#34;:25,&#34;description&#34;:&#34;The name of the package (Up to 25 characters)&#34;},&#34;overview&#34;:{&#34;type&#34;:&#34;string&#34;,&#34;maxLength&#34;:35,&#34;description&#34;:&#34;The overview of the package (Up to 35 characters)&#34;},&#34;description&#34;:{&#34;type&#34;:&#34;string&#34;,&#34;description&#34;:&#34;The description of the package&#34;},&#34;developer&#34;:{&#34;type&#34;:&#34;string&#34;,&#34;description&#34;:&#34;The name of the developer of the package&#34;},&#34;originalDeveloper&#34;:{&#34;type&#34;:&#34;string&#34;,&#34;description&#34;:&#34;The name of the developer of the package from which it was derived&#34;},&#34;dependencies&#34;:{&#34;type&#34;:&#34;array&#34;,&#34;items&#34;:{&#34;type&#34;:&#34;string&#34;,&#34;pattern&#34;:&#34;^(([A-Za-z0-9]+\\\\/[A-Za-z0-9]+)|(aviutl[A-Za-z0-9.]+)|(exedit[A-Za-z0-9.]+))(\\\\|(([A-Za-z0-9]+\\\\/[A-Za-z0-9]+)|(aviutl[A-Za-z0-9.]+)|(exedit[A-Za-z0-9.]+)))*$&#34;},&#34;description&#34;:&#34;ID of the package on which it depends&#34;},&#34;latestVersion&#34;:{&#34;type&#34;:&#34;string&#34;,&#34;description&#34;:&#34;The latest version of the package&#34;},&#34;files&#34;:{&#34;type&#34;:&#34;array&#34;,&#34;items&#34;:{&#34;type&#34;:&#34;object&#34;,&#34;properties&#34;:{&#34;filename&#34;:{&#34;type&#34;:&#34;string&#34;,&#34;description&#34;:&#34;The name of the file used in the package&#34;},&#34;isDirectory&#34;:{&#34;type&#34;:&#34;boolean&#34;,&#34;description&#34;:&#34;Whether it is a directory (Default: false)&#34;}},&#34;required&#34;:[&#34;filename&#34;],&#34;additionalProperties&#34;:false}}},&#34;required&#34;:[&#34;id&#34;,&#34;name&#34;,&#34;overview&#34;,&#34;description&#34;,&#34;developer&#34;,&#34;latestVersion&#34;,&#34;files&#34;],&#34;additionalProperties&#34;:false}\n----------------\n提供された情報から、パッケージに関する以下の内容を抜き出します：  - 名前: 模様スクリプト - 作者名: gometh - 説明: 情けない編集聡ずかしくないの？（無気力）ストライプ、格子、市松模様、水玉の4種を実装しています。 - インストールするにあたり参考になる情報: ダウンロードはこちらから→ [ダウンロードリンク](https://drive.google.com/file/d/1gDjg7omiiDxlKTuwRFopw-ySEjIO1qgE/view?usp=sharing) - インストールする手順: 具体的なインストール手順は提供されていませんが、ダウンロードリンクからファイルを入手し、AviUtlに組み込むことができるでしょう。 - 依存するAviUtlや拡張編集やその他要素のバージョン等: 提供されていません。 - 依存するVisual C++ 再頒布可能パッケージ: 提供されていません。 - patch.aulの導入が必要か: 提供されていません。  この情報に基づいて、パッケージの名前、作者名、説明、ダウンロードリンク、およびインストール手順が抜き出せますが、他の詳細情報は提供されていないようです。依存関係やバージョン情報、必要なパッケージについては、公式サイトや提供元の情報を確認する必要があります。\n----------------\n今回インストールするパッケージの圧縮ファイルから読み取ったメタデータです。\narchiveModificationTime: 2023/09/24\narchiveName: 模様 (1).zip\nfiles:\n- 模様.anm\nfolders: []\npageURL:\n- https://www.nicovideo.jp/watch/sm41446069\n----------------\n今回作成するjsonファイルの例です。\n{&#34;id&#34;:&#34;hebiiro/ShowWaveform&#34;,&#34;description&#34;:&#34;拡張編集ウィンドウの音声アイテム内に音声波形を表示します。&#34;,&#34;overview&#34;:&#34;拡張編集ウインドウに音声波形を表示する&#34;,&#34;name&#34;:&#34;アイテム内音声波形&#34;,&#34;developer&#34;:&#34;hebiiro&#34;,&#34;dependencies&#34;:[&#34;aviutl1.10&#34;,&#34;exedit0.92&#34;,&#34;ePi/patch&#34;,&#34;MrOjii/LSMASHWorks|pop4bit/LSMASHWorks|VFRmaniac/LSMASHWorks|HolyWu/LSMASHWorks&#34;],&#34;latestVersion&#34;:&#34;7.2.0&#34;,&#34;files&#34;:[{&#34;filename&#34;:&#34;plugins/ShowWaveform.auf&#34;},{&#34;filename&#34;:&#34;plugins/ShowWaveform.ini&#34;},{&#34;filename&#34;:&#34;plugins/ShowWaveform&#34;,&#34;isDirectory&#34;:true}]}\n----------------\nここからが本文です。次の質問に回答してください。\n\n1. 上記の例を参考に、圧縮ファイル内のファイルをインストールするためのJsonを作成してください。\n- idは`{英字による作者名}/{バージョン番号を含まないパッケージ名}`形式かつパッケージ名はキャメルケースの半角英字です。AviUtlやプラグインやスクリプトという単語は使用禁止です。英字の作者名は説明、URLからの推測や、日本語の作者名を英語やローマ字に変換することで取得できます。それでもわからない場合は&#39;unknown&#39;としてください。\n- descriptionは自然な文章になるように推敲を行ってください。これまでの課題を書いては絶対にいけません。Visual C++ 再頒布可能パッケージが必要な場合は文章の最後に&#34;動作にはVisual C++ 再頒布可能パッケージ 20xx x86(32bit)のインストールが必要です。&#34;と追記してください。\n- overviewはdescriptionを35文字以内に要約したものです。AviUtlという単語は使用禁止です。\n- nameは日本語により25文字以内で表されるパッケージ名です。headersも参考にしてください。バージョン番号や、AviUtlやプラグインやスクリプトという単語は使用禁止です。\n- developerは日本語で記述できる場合は日本語にしてください。わからない場合は、idに含まれる作者名と同一にします。\n- dependenciesにはAviUtl(aviutl)、拡張編集(exedit)について依存するバージョンが指定されている場合は記述、バージョン指定のない場合は記述しないでください。&#39;ePi/patch&#39;(pacth.aul)について必要がある場合のみ記述。\n- latestVersionは配布されたファイルのバージョンです。圧縮ファイルのファイル名も参考にできます。なければ圧縮ファイルの更新日時をそのまま利用して構いません。\n- filesについては、基本的にすべてのファイルフォルダは必要であり指定されるべきです。特にインストール方法について指示がない場合、拡張子が.auf,.aui,.auo,.auc,.aulのファイルまたはそのファイルと同一の親フォルダに含まれる任意のファイル・フォルダは`plugins/` フォルダ、.anm,.obj,.cam,.tra,.scnのファイルまたはそのファイルと同一の親フォルダに含まれる任意のファイル・フォルダは`script/{idで指定した作者名}/`の中に配置するようにしてください。Readmeファイルやライセンスファイルやソースコードファイルやソースコードフォルダ内のファイルは不要のためファイル一覧に含めないでください。データ作成時は、最初にisDirectoryのあるエントリを記述し、次に、冗長な記述を防ぐためisDirectory指定したフォルダ内に含まれないファイルのみ記述してください。\n\n2.\nこれらの情報からjsonファイルを生成し上記のjson schemaによりエラーを出力して検証を行ってください。エラーのある場合はリトライしてください。その後、完成したjsonファイルのダウンロードリンクを提供してください。Pythonにschemaを入力する際はFalseの先頭を大文字にしてdescription以外の要素は省略せず入力してください。もし、json.dump()を使用する場合は ensure_ascii=Falseを指定してください。</textarea>"
          }
        },
        "1dd8935115b1412fb5ba112448b403ab": {
          "model_module": "@jupyter-widgets/base",
          "model_name": "LayoutModel",
          "model_module_version": "1.2.0",
          "state": {
            "_model_module": "@jupyter-widgets/base",
            "_model_module_version": "1.2.0",
            "_model_name": "LayoutModel",
            "_view_count": null,
            "_view_module": "@jupyter-widgets/base",
            "_view_module_version": "1.2.0",
            "_view_name": "LayoutView",
            "align_content": null,
            "align_items": null,
            "align_self": null,
            "border": null,
            "bottom": null,
            "display": null,
            "flex": null,
            "flex_flow": null,
            "grid_area": null,
            "grid_auto_columns": null,
            "grid_auto_flow": null,
            "grid_auto_rows": null,
            "grid_column": null,
            "grid_gap": null,
            "grid_row": null,
            "grid_template_areas": null,
            "grid_template_columns": null,
            "grid_template_rows": null,
            "height": null,
            "justify_content": null,
            "justify_items": null,
            "left": null,
            "margin": null,
            "max_height": null,
            "max_width": null,
            "min_height": null,
            "min_width": null,
            "object_fit": null,
            "object_position": null,
            "order": null,
            "overflow": null,
            "overflow_x": null,
            "overflow_y": null,
            "padding": null,
            "right": null,
            "top": null,
            "visibility": null,
            "width": null
          }
        },
        "0a23e813ffb34ea181126679d7ece9a5": {
          "model_module": "@jupyter-widgets/controls",
          "model_name": "DescriptionStyleModel",
          "model_module_version": "1.5.0",
          "state": {
            "_model_module": "@jupyter-widgets/controls",
            "_model_module_version": "1.5.0",
            "_model_name": "DescriptionStyleModel",
            "_view_count": null,
            "_view_module": "@jupyter-widgets/base",
            "_view_module_version": "1.2.0",
            "_view_name": "StyleView",
            "description_width": ""
          }
        },
        "f69ab11a7d07488f80c8dfcb1d51a3b9": {
          "model_module": "@jupyter-widgets/controls",
          "model_name": "HTMLModel",
          "model_module_version": "1.5.0",
          "state": {
            "_dom_classes": [],
            "_model_module": "@jupyter-widgets/controls",
            "_model_module_version": "1.5.0",
            "_model_name": "HTMLModel",
            "_view_count": null,
            "_view_module": "@jupyter-widgets/controls",
            "_view_module_version": "1.5.0",
            "_view_name": "HTMLView",
            "description": "",
            "description_tooltip": null,
            "layout": "IPY_MODEL_7e6d0e1fcc5240758c8835f2f8325cf7",
            "placeholder": "​",
            "style": "IPY_MODEL_3446e2f1f08245ddbc95bc44dbce8e72",
            "value": "<textarea  onfocus='this.select();' cols='70' rows='10'>{\n  &#34;id&#34;: &#34;gometh/PatternScript&#34;,\n  &#34;name&#34;: &#34;模様スクリプト&#34;,\n  &#34;overview&#34;: &#34;4種類の模様を実装するパッケージ&#34;,\n  &#34;description&#34;: &#34;このパッケージは編集に情けなさを感じさせるかもしれませんが、ストライプ、格子、市松模様、水玉の4種類の模様を実装しており、ダウンロードは[こちら](https://drive.google.com/file/d/1gDjg7omiiDxlKTuwRFopw-ySEjIO1qgE/view?usp=sharing)から可能です。インストール手順は提供されていませんが、ダウンロードリンクからファイルを取得し、AviUtlに組み込むことが可能です。&#34;,\n  &#34;developer&#34;: &#34;gometh&#34;,\n  &#34;dependencies&#34;: [],\n  &#34;latestVersion&#34;: &#34;2023/09/24&#34;,\n  &#34;files&#34;: [\n    {\n      &#34;filename&#34;: &#34;script/gometh/模様.anm&#34;\n    }\n  ],\n  &#34;pageURL&#34;: [\n    &#34;https://www.nicovideo.jp/watch/sm41446069&#34;\n  ],\n  &#34;downloadURLs&#34;: [\n    &#34;&#34;\n  ],\n  &#34;releases&#34;: [\n    {\n      &#34;version&#34;: &#34;2023/09/24&#34;,\n      &#34;integrity&#34;: {\n        &#34;archive&#34;: &#34;sha384-FpvA6mS6dPX0rVrG2+rwDddCSSgelg2lKtPRiXCg/fIM3SBNAN1/HYzTa731qfqZ&#34;,\n        &#34;file&#34;: [\n          {\n            &#34;target&#34;: &#34;script/gometh/模様.anm&#34;,\n            &#34;hash&#34;: &#34;sha384-QnGz891ctJWvWoWKD58TekNMCm6LZOTHoqTQtEshmBot5Pq8Dgvnj3HtY+WipuoY&#34;\n          }\n        ]\n      }\n    }\n  ]\n}</textarea>"
          }
        },
        "7e6d0e1fcc5240758c8835f2f8325cf7": {
          "model_module": "@jupyter-widgets/base",
          "model_name": "LayoutModel",
          "model_module_version": "1.2.0",
          "state": {
            "_model_module": "@jupyter-widgets/base",
            "_model_module_version": "1.2.0",
            "_model_name": "LayoutModel",
            "_view_count": null,
            "_view_module": "@jupyter-widgets/base",
            "_view_module_version": "1.2.0",
            "_view_name": "LayoutView",
            "align_content": null,
            "align_items": null,
            "align_self": null,
            "border": null,
            "bottom": null,
            "display": null,
            "flex": null,
            "flex_flow": null,
            "grid_area": null,
            "grid_auto_columns": null,
            "grid_auto_flow": null,
            "grid_auto_rows": null,
            "grid_column": null,
            "grid_gap": null,
            "grid_row": null,
            "grid_template_areas": null,
            "grid_template_columns": null,
            "grid_template_rows": null,
            "height": null,
            "justify_content": null,
            "justify_items": null,
            "left": null,
            "margin": null,
            "max_height": null,
            "max_width": null,
            "min_height": null,
            "min_width": null,
            "object_fit": null,
            "object_position": null,
            "order": null,
            "overflow": null,
            "overflow_x": null,
            "overflow_y": null,
            "padding": null,
            "right": null,
            "top": null,
            "visibility": null,
            "width": null
          }
        },
        "3446e2f1f08245ddbc95bc44dbce8e72": {
          "model_module": "@jupyter-widgets/controls",
          "model_name": "DescriptionStyleModel",
          "model_module_version": "1.5.0",
          "state": {
            "_model_module": "@jupyter-widgets/controls",
            "_model_module_version": "1.5.0",
            "_model_name": "DescriptionStyleModel",
            "_view_count": null,
            "_view_module": "@jupyter-widgets/base",
            "_view_module_version": "1.2.0",
            "_view_name": "StyleView",
            "description_width": ""
          }
        }
      }
    }
  },
  "nbformat": 4,
  "nbformat_minor": 0
}