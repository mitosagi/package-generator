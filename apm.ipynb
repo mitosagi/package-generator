{
  "cells": [
    {
      "cell_type": "code",
      "execution_count": 11,
      "metadata": {
        "colab": {
          "base_uri": "https://localhost:8080/"
        },
        "id": "mSTUL1qmYVuQ",
        "outputId": "3543583c-72de-4fc4-d506-e387b938b76b"
      },
      "outputs": [
        {
          "output_type": "stream",
          "name": "stdout",
          "text": [
            "fatal: destination path 'summarize-readme' already exists and is not an empty directory.\n",
            "/content/summarize-readme\n",
            "  Preparing metadata (setup.py) ... \u001b[?25l\u001b[?25hdone\n"
          ]
        }
      ],
      "source": [
        "!git clone https://github.com/mitosagi/summarize-readme\n",
        "%cd /content/summarize-readme\n",
        "!pip install -qr requirements.txt\n",
        "!playwright install-deps\n",
        "!playwright install webkit\n",
        "\n",
        "from ipywidgets import Textarea, HTML\n",
        "from jinja2 import Template\n",
        "\n",
        "button_template = Template(\"<textarea  onfocus='this.select();' cols='70' rows='10'>{{text|e}}</textarea>\")"
      ]
    },
    {
      "cell_type": "code",
      "source": [
        "# 1. パッケージの説明文が含まれるURLを指定してください（複数可）。\n",
        "print('以下のURLから説明文を抽出します。')\n",
        "pageURL = ['https://github.com/nazonoSAUNA/tl_Item_cut']\n",
        "print(pageURL)\n",
        "\n",
        "from google.colab import files\n",
        "print('パッケージの圧縮ファイルをアップロードしてください。')\n",
        "archivePath = [key for key in files.upload().keys()][0]\n",
        "\n",
        "print('以下のプロンプトをGPT3.5相当のLLMにて実行してください。')\n",
        "from pri_summarize import pri_summarize\n",
        "prompt = pri_summarize(pageURL, archivePath)\n",
        "HTML(button_template.render(text=prompt))\n"
      ],
      "metadata": {
        "colab": {
          "base_uri": "https://localhost:8080/",
          "height": 315,
          "referenced_widgets": [
            "9b346de12d904b09a12de7ca085425e0",
            "8af1d62153ca4016bb01347d477abad4",
            "a9d7682813074b23bc963ffce48b0454"
          ]
        },
        "id": "UW2gac-SZuWc",
        "outputId": "d4ab076c-7423-432e-cf9c-f75102cb3594"
      },
      "execution_count": 12,
      "outputs": [
        {
          "output_type": "stream",
          "name": "stdout",
          "text": [
            "以下のURLから説明文を抽出します。\n",
            "['https://github.com/nazonoSAUNA/tl_Item_cut']\n",
            "パッケージの圧縮ファイルをアップロードしてください。\n"
          ]
        },
        {
          "output_type": "display_data",
          "data": {
            "text/plain": [
              "<IPython.core.display.HTML object>"
            ],
            "text/html": [
              "\n",
              "     <input type=\"file\" id=\"files-855f9be8-890d-486f-b32d-dfdfab7eaeb3\" name=\"files[]\" multiple disabled\n",
              "        style=\"border:none\" />\n",
              "     <output id=\"result-855f9be8-890d-486f-b32d-dfdfab7eaeb3\">\n",
              "      Upload widget is only available when the cell has been executed in the\n",
              "      current browser session. Please rerun this cell to enable.\n",
              "      </output>\n",
              "      <script>// Copyright 2017 Google LLC\n",
              "//\n",
              "// Licensed under the Apache License, Version 2.0 (the \"License\");\n",
              "// you may not use this file except in compliance with the License.\n",
              "// You may obtain a copy of the License at\n",
              "//\n",
              "//      http://www.apache.org/licenses/LICENSE-2.0\n",
              "//\n",
              "// Unless required by applicable law or agreed to in writing, software\n",
              "// distributed under the License is distributed on an \"AS IS\" BASIS,\n",
              "// WITHOUT WARRANTIES OR CONDITIONS OF ANY KIND, either express or implied.\n",
              "// See the License for the specific language governing permissions and\n",
              "// limitations under the License.\n",
              "\n",
              "/**\n",
              " * @fileoverview Helpers for google.colab Python module.\n",
              " */\n",
              "(function(scope) {\n",
              "function span(text, styleAttributes = {}) {\n",
              "  const element = document.createElement('span');\n",
              "  element.textContent = text;\n",
              "  for (const key of Object.keys(styleAttributes)) {\n",
              "    element.style[key] = styleAttributes[key];\n",
              "  }\n",
              "  return element;\n",
              "}\n",
              "\n",
              "// Max number of bytes which will be uploaded at a time.\n",
              "const MAX_PAYLOAD_SIZE = 100 * 1024;\n",
              "\n",
              "function _uploadFiles(inputId, outputId) {\n",
              "  const steps = uploadFilesStep(inputId, outputId);\n",
              "  const outputElement = document.getElementById(outputId);\n",
              "  // Cache steps on the outputElement to make it available for the next call\n",
              "  // to uploadFilesContinue from Python.\n",
              "  outputElement.steps = steps;\n",
              "\n",
              "  return _uploadFilesContinue(outputId);\n",
              "}\n",
              "\n",
              "// This is roughly an async generator (not supported in the browser yet),\n",
              "// where there are multiple asynchronous steps and the Python side is going\n",
              "// to poll for completion of each step.\n",
              "// This uses a Promise to block the python side on completion of each step,\n",
              "// then passes the result of the previous step as the input to the next step.\n",
              "function _uploadFilesContinue(outputId) {\n",
              "  const outputElement = document.getElementById(outputId);\n",
              "  const steps = outputElement.steps;\n",
              "\n",
              "  const next = steps.next(outputElement.lastPromiseValue);\n",
              "  return Promise.resolve(next.value.promise).then((value) => {\n",
              "    // Cache the last promise value to make it available to the next\n",
              "    // step of the generator.\n",
              "    outputElement.lastPromiseValue = value;\n",
              "    return next.value.response;\n",
              "  });\n",
              "}\n",
              "\n",
              "/**\n",
              " * Generator function which is called between each async step of the upload\n",
              " * process.\n",
              " * @param {string} inputId Element ID of the input file picker element.\n",
              " * @param {string} outputId Element ID of the output display.\n",
              " * @return {!Iterable<!Object>} Iterable of next steps.\n",
              " */\n",
              "function* uploadFilesStep(inputId, outputId) {\n",
              "  const inputElement = document.getElementById(inputId);\n",
              "  inputElement.disabled = false;\n",
              "\n",
              "  const outputElement = document.getElementById(outputId);\n",
              "  outputElement.innerHTML = '';\n",
              "\n",
              "  const pickedPromise = new Promise((resolve) => {\n",
              "    inputElement.addEventListener('change', (e) => {\n",
              "      resolve(e.target.files);\n",
              "    });\n",
              "  });\n",
              "\n",
              "  const cancel = document.createElement('button');\n",
              "  inputElement.parentElement.appendChild(cancel);\n",
              "  cancel.textContent = 'Cancel upload';\n",
              "  const cancelPromise = new Promise((resolve) => {\n",
              "    cancel.onclick = () => {\n",
              "      resolve(null);\n",
              "    };\n",
              "  });\n",
              "\n",
              "  // Wait for the user to pick the files.\n",
              "  const files = yield {\n",
              "    promise: Promise.race([pickedPromise, cancelPromise]),\n",
              "    response: {\n",
              "      action: 'starting',\n",
              "    }\n",
              "  };\n",
              "\n",
              "  cancel.remove();\n",
              "\n",
              "  // Disable the input element since further picks are not allowed.\n",
              "  inputElement.disabled = true;\n",
              "\n",
              "  if (!files) {\n",
              "    return {\n",
              "      response: {\n",
              "        action: 'complete',\n",
              "      }\n",
              "    };\n",
              "  }\n",
              "\n",
              "  for (const file of files) {\n",
              "    const li = document.createElement('li');\n",
              "    li.append(span(file.name, {fontWeight: 'bold'}));\n",
              "    li.append(span(\n",
              "        `(${file.type || 'n/a'}) - ${file.size} bytes, ` +\n",
              "        `last modified: ${\n",
              "            file.lastModifiedDate ? file.lastModifiedDate.toLocaleDateString() :\n",
              "                                    'n/a'} - `));\n",
              "    const percent = span('0% done');\n",
              "    li.appendChild(percent);\n",
              "\n",
              "    outputElement.appendChild(li);\n",
              "\n",
              "    const fileDataPromise = new Promise((resolve) => {\n",
              "      const reader = new FileReader();\n",
              "      reader.onload = (e) => {\n",
              "        resolve(e.target.result);\n",
              "      };\n",
              "      reader.readAsArrayBuffer(file);\n",
              "    });\n",
              "    // Wait for the data to be ready.\n",
              "    let fileData = yield {\n",
              "      promise: fileDataPromise,\n",
              "      response: {\n",
              "        action: 'continue',\n",
              "      }\n",
              "    };\n",
              "\n",
              "    // Use a chunked sending to avoid message size limits. See b/62115660.\n",
              "    let position = 0;\n",
              "    do {\n",
              "      const length = Math.min(fileData.byteLength - position, MAX_PAYLOAD_SIZE);\n",
              "      const chunk = new Uint8Array(fileData, position, length);\n",
              "      position += length;\n",
              "\n",
              "      const base64 = btoa(String.fromCharCode.apply(null, chunk));\n",
              "      yield {\n",
              "        response: {\n",
              "          action: 'append',\n",
              "          file: file.name,\n",
              "          data: base64,\n",
              "        },\n",
              "      };\n",
              "\n",
              "      let percentDone = fileData.byteLength === 0 ?\n",
              "          100 :\n",
              "          Math.round((position / fileData.byteLength) * 100);\n",
              "      percent.textContent = `${percentDone}% done`;\n",
              "\n",
              "    } while (position < fileData.byteLength);\n",
              "  }\n",
              "\n",
              "  // All done.\n",
              "  yield {\n",
              "    response: {\n",
              "      action: 'complete',\n",
              "    }\n",
              "  };\n",
              "}\n",
              "\n",
              "scope.google = scope.google || {};\n",
              "scope.google.colab = scope.google.colab || {};\n",
              "scope.google.colab._files = {\n",
              "  _uploadFiles,\n",
              "  _uploadFilesContinue,\n",
              "};\n",
              "})(self);\n",
              "</script> "
            ]
          },
          "metadata": {}
        },
        {
          "output_type": "stream",
          "name": "stdout",
          "text": [
            "Saving tl_item_cut5.0.zip to tl_item_cut5.0.zip\n",
            "以下のプロンプトをGPT3.5相当のLLMにて実行してください。\n",
            "Cookies must be enabled to use GitHub.\n"
          ]
        },
        {
          "output_type": "display_data",
          "data": {
            "text/plain": [
              "HTML(value=\"<textarea  onfocus='this.select();' cols='70' rows='10'>今回インストールするパッケージの圧縮ファイルから読み取ったメタデータです。\\narc…"
            ],
            "application/vnd.jupyter.widget-view+json": {
              "version_major": 2,
              "version_minor": 0,
              "model_id": "9b346de12d904b09a12de7ca085425e0"
            }
          },
          "metadata": {}
        }
      ]
    },
    {
      "cell_type": "code",
      "execution_count": 13,
      "metadata": {
        "colab": {
          "base_uri": "https://localhost:8080/",
          "height": 74,
          "referenced_widgets": [
            "fbfbb3f2fd1d4de78526fcff4a0bf919",
            "4704c360fe1d4aa6b37c583b1b2844ee",
            "2f508d133f07418d92c39fd811352e44"
          ]
        },
        "id": "o5o6k8KfYVuS",
        "outputId": "05a116ac-09c8-4824-cc50-4c06b866b6ac"
      },
      "outputs": [
        {
          "output_type": "stream",
          "name": "stdout",
          "text": [
            "LLMの出力を以下の欄に貼り付けてください。\n"
          ]
        },
        {
          "output_type": "display_data",
          "data": {
            "text/plain": [
              "Textarea(value='')"
            ],
            "application/vnd.jupyter.widget-view+json": {
              "version_major": 2,
              "version_minor": 0,
              "model_id": "fbfbb3f2fd1d4de78526fcff4a0bf919"
            }
          },
          "metadata": {}
        }
      ],
      "source": [
        "# 2. GPT3.5の出力を以下の欄に貼り付けます。\n",
        "def get_input(change):\n",
        "    global GPT35out\n",
        "    GPT35out = change[\"new\"]\n",
        "textarea = Textarea()\n",
        "textarea.observe(get_input, names='value')\n",
        "print('LLMの出力を以下の欄に貼り付けてください。')\n",
        "display(textarea)"
      ]
    },
    {
      "cell_type": "code",
      "execution_count": 14,
      "metadata": {
        "colab": {
          "base_uri": "https://localhost:8080/",
          "height": 184,
          "referenced_widgets": [
            "ddbe987c53744411922d0feb4c3d1d3f",
            "e15f3b8288c543d180977f4ffa48015b",
            "a750a87fa3c946c8ada1961f33489f68"
          ]
        },
        "id": "_AoWqV-WYVuS",
        "outputId": "bf8908eb-a96b-4c99-c888-8e25853872a7"
      },
      "outputs": [
        {
          "output_type": "stream",
          "name": "stdout",
          "text": [
            "以下のプロンプトをGPT4相当のLLMにて実行してください。\n"
          ]
        },
        {
          "output_type": "display_data",
          "data": {
            "text/plain": [
              "HTML(value=\"<textarea  onfocus='this.select();' cols='70' rows='10'>以下はjson schemaです。\\n{&#34;type&#34;:&#34;ob…"
            ],
            "application/vnd.jupyter.widget-view+json": {
              "version_major": 2,
              "version_minor": 0,
              "model_id": "ddbe987c53744411922d0feb4c3d1d3f"
            }
          },
          "metadata": {}
        }
      ],
      "source": [
        "# 3. GPT4用のプロンプトを作成します。\n",
        "from pri_infer import pri_infer\n",
        "prompt = pri_infer(GPT35out)\n",
        "print('以下のプロンプトをGPT4相当のpythonインタプリタ付きLLMにて実行してください。')\n",
        "HTML(button_template.render(text=prompt))"
      ]
    },
    {
      "cell_type": "code",
      "execution_count": 15,
      "metadata": {
        "colab": {
          "base_uri": "https://localhost:8080/",
          "height": 74,
          "referenced_widgets": [
            "00cf27eecb6645b89d6cc77bc6052470",
            "4f5f352e4a9242a685c0df62ea6a68a2",
            "3a8b80d1c36b4362a87a4ad2fcf53500"
          ]
        },
        "id": "Yirc-mdUYVuS",
        "outputId": "477c6fa9-9bd9-4b84-9bdd-66ce8830568e"
      },
      "outputs": [
        {
          "output_type": "stream",
          "name": "stdout",
          "text": [
            "LLMの出力を以下の欄に貼り付けてください。\n"
          ]
        },
        {
          "output_type": "display_data",
          "data": {
            "text/plain": [
              "Textarea(value='')"
            ],
            "application/vnd.jupyter.widget-view+json": {
              "version_major": 2,
              "version_minor": 0,
              "model_id": "00cf27eecb6645b89d6cc77bc6052470"
            }
          },
          "metadata": {}
        }
      ],
      "source": [
        "# 4. GPT4の出力を以下の欄に貼り付けます。\n",
        "def get_input(change):\n",
        "    global GPT4out\n",
        "    GPT4out = change[\"new\"]\n",
        "textarea = Textarea()\n",
        "textarea.observe(get_input, names='value')\n",
        "print('LLMの出力を以下の欄に貼り付けてください。')\n",
        "display(textarea)"
      ]
    },
    {
      "cell_type": "code",
      "execution_count": 16,
      "metadata": {
        "colab": {
          "base_uri": "https://localhost:8080/",
          "height": 167,
          "referenced_widgets": [
            "1378158a263647e1b2fa2160fa745d8b",
            "122021c9bf4145cbacdad2a2bef7a93d",
            "1051b47682074aca9938aeff20006e04"
          ]
        },
        "id": "XKitIezHYVuT",
        "outputId": "339cf4b2-7287-4a33-a3d7-092b5fa1c45b"
      },
      "outputs": [
        {
          "output_type": "display_data",
          "data": {
            "text/plain": [
              "HTML(value=\"<textarea  onfocus='this.select();' cols='70' rows='10'>{\\n  &#34;id&#34;: &#34;NoyasekiyaP/Hanabi…"
            ],
            "application/vnd.jupyter.widget-view+json": {
              "version_major": 2,
              "version_minor": 0,
              "model_id": "1378158a263647e1b2fa2160fa745d8b"
            }
          },
          "metadata": {}
        }
      ],
      "source": [
        "# 5. apm用のデータを出力します。\n",
        "from post_infer import post_infer\n",
        "import json\n",
        "prompt = json.dumps(post_infer(GPT4out), indent=2, ensure_ascii=False)\n",
        "HTML(button_template.render(text=prompt))"
      ]
    },
    {
      "cell_type": "code",
      "execution_count": 16,
      "metadata": {
        "id": "9-TqtOXZYVuT"
      },
      "outputs": [],
      "source": []
    }
  ],
  "metadata": {
    "kernelspec": {
      "display_name": ".venv",
      "language": "python",
      "name": "python3"
    },
    "language_info": {
      "codemirror_mode": {
        "name": "ipython",
        "version": 3
      },
      "file_extension": ".py",
      "mimetype": "text/x-python",
      "name": "python",
      "nbconvert_exporter": "python",
      "pygments_lexer": "ipython3",
      "version": "3.10.12"
    },
    "orig_nbformat": 4,
    "colab": {
      "provenance": []
    },
    "widgets": {
      "application/vnd.jupyter.widget-state+json": {
        "9b346de12d904b09a12de7ca085425e0": {
          "model_module": "@jupyter-widgets/controls",
          "model_name": "HTMLModel",
          "model_module_version": "1.5.0",
          "state": {
            "_dom_classes": [],
            "_model_module": "@jupyter-widgets/controls",
            "_model_module_version": "1.5.0",
            "_model_name": "HTMLModel",
            "_view_count": null,
            "_view_module": "@jupyter-widgets/controls",
            "_view_module_version": "1.5.0",
            "_view_name": "HTMLView",
            "description": "",
            "description_tooltip": null,
            "layout": "IPY_MODEL_8af1d62153ca4016bb01347d477abad4",
            "placeholder": "​",
            "style": "IPY_MODEL_a9d7682813074b23bc963ffce48b0454",
            "value": "<textarea  onfocus='this.select();' cols='70' rows='10'>今回インストールするパッケージの圧縮ファイルから読み取ったメタデータです。\narchiveModificationTime: 2023/09/08\narchiveName: tl_item_cut5.0.zip\nfiles:\n- tl_Item_cut.auf\nfolders: []\npageURL:\n- https://github.com/nazonoSAUNA/tl_Item_cut\n\n----------------\n公式サイトの説明です。\n\n\n----------------\n圧縮ファイルに含まれるReadmeファイルの説明です。\nAviUtlPluginSDK License\r\n\r\nThe MIT License\r\n\r\nCopyright (c) 1999-2012 Kenkun\r\n\r\nPermission is hereby granted, free of charge, to any person obtaining a copy\r\nof this software and associated documentation files (the &#34;Software&#34;), to deal\r\nin the Software without restriction, including without limitation the rights\r\nto use, copy, modify, merge, publish, distribute, sublicense, and/or sell\r\ncopies of the Software, and to permit persons to whom the Software is\r\nfurnished to do so, subject to the following conditions:\r\n\r\nThe above copyright notice and this permission notice shall be included in\r\nall copies or substantial portions of the Software.\r\n\r\nTHE SOFTWARE IS PROVIDED &#34;AS IS&#34;, WITHOUT WARRANTY OF ANY KIND, EXPRESS OR\r\nIMPLIED, INCLUDING BUT NOT LIMITED TO THE WARRANTIES OF MERCHANTABILITY,\r\nFITNESS FOR A PARTICULAR PURPOSE AND NONINFRINGEMENT. IN NO EVENT SHALL THE\r\nAUTHORS OR COPYRIGHT HOLDERS BE LIABLE FOR ANY CLAIM, DAMAGES OR OTHER\r\nLIABILITY, WHETHER IN AN ACTION OF CONTRACT, TORT OR OTHERWISE, ARISING FROM,\r\nOUT OF OR IN CONNECTION WITH THE SOFTWARE OR THE USE OR OTHER DEALINGS IN\r\nTHE SOFTWARE.\r\n\r\n\r\n\r\n\r\n\r\naviutl_exedit_sdk\r\n\r\nCopyright (c) 2022\r\nePi All rights reserved.\r\n\r\nRedistribution and use in source and binary forms, with or without modification, are permitted provided that the following conditions are met:\r\n\r\nRedistributions of source code must retain the above copyright notice, this list of conditions and the following disclaimer.\r\nTHIS SOFTWARE IS PROVIDED BY ePi â€œAS IS&#39;&#39; AND ANY EXPRESS OR IMPLIED WARRANTIES, INCLUDING, BUT NOT LIMITED TO, THE IMPLIED WARRANTIES OF MERCHANTABILITY AND FITNESS FOR A PARTICULAR PURPOSE ARE DISCLAIMED. IN NO EVENT SHALL ePi BE LIABLE FOR ANY DIRECT, INDIRECT, INCIDENTAL, SPECIAL, EXEMPLARY, OR CONSEQUENTIAL DAMAGES (INCLUDING, BUT NOT LIMITED TO, PROCUREMENT OF SUBSTITUTE GOODS OR SERVICES; LOSS OF USE, DATA, OR PROFITS; OR BUSINESS INTERRUPTION) HOWEVER CAUSED AND ON ANY THEORY OF LIABILITY, WHETHER IN CONTRACT, STRICT LIABILITY, OR TORT (INCLUDING NEGLIGENCE OR OTHERWISE) ARISING IN ANY WAY OUT OF THE USE OF THIS SOFTWARE, EVEN IF ADVISED OF THE POSSIBILITY OF SUCH DAMAGE.\r\n\n----------------\nここまでがパッケージの情報です。ここからは天才でありどんな仕事でもできるあなたへのお願いです。\nこのパッケージについて以下の内容を含む文章を抜き出してください。不明の場合は不明と書いてください。\n- 名前\n- 作者名\n- 300文字以内の説明\n- インストールするにあたり参考になる情報\n- インストールする手順\n- 依存するAviUtlや拡張編集やその他要素のバージョン等を含む文\n- 依存するVisual C++ 再頒布可能パッケージ\n- patch.aulの導入が必要か\n</textarea>"
          }
        },
        "8af1d62153ca4016bb01347d477abad4": {
          "model_module": "@jupyter-widgets/base",
          "model_name": "LayoutModel",
          "model_module_version": "1.2.0",
          "state": {
            "_model_module": "@jupyter-widgets/base",
            "_model_module_version": "1.2.0",
            "_model_name": "LayoutModel",
            "_view_count": null,
            "_view_module": "@jupyter-widgets/base",
            "_view_module_version": "1.2.0",
            "_view_name": "LayoutView",
            "align_content": null,
            "align_items": null,
            "align_self": null,
            "border": null,
            "bottom": null,
            "display": null,
            "flex": null,
            "flex_flow": null,
            "grid_area": null,
            "grid_auto_columns": null,
            "grid_auto_flow": null,
            "grid_auto_rows": null,
            "grid_column": null,
            "grid_gap": null,
            "grid_row": null,
            "grid_template_areas": null,
            "grid_template_columns": null,
            "grid_template_rows": null,
            "height": null,
            "justify_content": null,
            "justify_items": null,
            "left": null,
            "margin": null,
            "max_height": null,
            "max_width": null,
            "min_height": null,
            "min_width": null,
            "object_fit": null,
            "object_position": null,
            "order": null,
            "overflow": null,
            "overflow_x": null,
            "overflow_y": null,
            "padding": null,
            "right": null,
            "top": null,
            "visibility": null,
            "width": null
          }
        },
        "a9d7682813074b23bc963ffce48b0454": {
          "model_module": "@jupyter-widgets/controls",
          "model_name": "DescriptionStyleModel",
          "model_module_version": "1.5.0",
          "state": {
            "_model_module": "@jupyter-widgets/controls",
            "_model_module_version": "1.5.0",
            "_model_name": "DescriptionStyleModel",
            "_view_count": null,
            "_view_module": "@jupyter-widgets/base",
            "_view_module_version": "1.2.0",
            "_view_name": "StyleView",
            "description_width": ""
          }
        },
        "fbfbb3f2fd1d4de78526fcff4a0bf919": {
          "model_module": "@jupyter-widgets/controls",
          "model_name": "TextareaModel",
          "model_module_version": "1.5.0",
          "state": {
            "_dom_classes": [],
            "_model_module": "@jupyter-widgets/controls",
            "_model_module_version": "1.5.0",
            "_model_name": "TextareaModel",
            "_view_count": null,
            "_view_module": "@jupyter-widgets/controls",
            "_view_module_version": "1.5.0",
            "_view_name": "TextareaView",
            "continuous_update": true,
            "description": "",
            "description_tooltip": null,
            "disabled": false,
            "layout": "IPY_MODEL_4704c360fe1d4aa6b37c583b1b2844ee",
            "placeholder": "​",
            "rows": null,
            "style": "IPY_MODEL_2f508d133f07418d92c39fd811352e44",
            "value": ""
          }
        },
        "4704c360fe1d4aa6b37c583b1b2844ee": {
          "model_module": "@jupyter-widgets/base",
          "model_name": "LayoutModel",
          "model_module_version": "1.2.0",
          "state": {
            "_model_module": "@jupyter-widgets/base",
            "_model_module_version": "1.2.0",
            "_model_name": "LayoutModel",
            "_view_count": null,
            "_view_module": "@jupyter-widgets/base",
            "_view_module_version": "1.2.0",
            "_view_name": "LayoutView",
            "align_content": null,
            "align_items": null,
            "align_self": null,
            "border": null,
            "bottom": null,
            "display": null,
            "flex": null,
            "flex_flow": null,
            "grid_area": null,
            "grid_auto_columns": null,
            "grid_auto_flow": null,
            "grid_auto_rows": null,
            "grid_column": null,
            "grid_gap": null,
            "grid_row": null,
            "grid_template_areas": null,
            "grid_template_columns": null,
            "grid_template_rows": null,
            "height": null,
            "justify_content": null,
            "justify_items": null,
            "left": null,
            "margin": null,
            "max_height": null,
            "max_width": null,
            "min_height": null,
            "min_width": null,
            "object_fit": null,
            "object_position": null,
            "order": null,
            "overflow": null,
            "overflow_x": null,
            "overflow_y": null,
            "padding": null,
            "right": null,
            "top": null,
            "visibility": null,
            "width": null
          }
        },
        "2f508d133f07418d92c39fd811352e44": {
          "model_module": "@jupyter-widgets/controls",
          "model_name": "DescriptionStyleModel",
          "model_module_version": "1.5.0",
          "state": {
            "_model_module": "@jupyter-widgets/controls",
            "_model_module_version": "1.5.0",
            "_model_name": "DescriptionStyleModel",
            "_view_count": null,
            "_view_module": "@jupyter-widgets/base",
            "_view_module_version": "1.2.0",
            "_view_name": "StyleView",
            "description_width": ""
          }
        },
        "ddbe987c53744411922d0feb4c3d1d3f": {
          "model_module": "@jupyter-widgets/controls",
          "model_name": "HTMLModel",
          "model_module_version": "1.5.0",
          "state": {
            "_dom_classes": [],
            "_model_module": "@jupyter-widgets/controls",
            "_model_module_version": "1.5.0",
            "_model_name": "HTMLModel",
            "_view_count": null,
            "_view_module": "@jupyter-widgets/controls",
            "_view_module_version": "1.5.0",
            "_view_name": "HTMLView",
            "description": "",
            "description_tooltip": null,
            "layout": "IPY_MODEL_e15f3b8288c543d180977f4ffa48015b",
            "placeholder": "​",
            "style": "IPY_MODEL_a750a87fa3c946c8ada1961f33489f68",
            "value": "<textarea  onfocus='this.select();' cols='70' rows='10'>以下はjson schemaです。\n{&#34;type&#34;:&#34;object&#34;,&#34;properties&#34;:{&#34;id&#34;:{&#34;type&#34;:&#34;string&#34;,&#34;pattern&#34;:&#34;^[a-zA-Z0-9]+/[a-zA-Z0-9]+$&#34;,&#34;description&#34;:&#34;The ID of the package (Non-duplicated alphanumeric characters. Use a file name that represents the package. If there is no representative name, use the archive file name. If there is a possibility of duplication, such as only one word, prefix it with the developer&#39;s name.)&#34;},&#34;name&#34;:{&#34;type&#34;:&#34;string&#34;,&#34;maxLength&#34;:25,&#34;description&#34;:&#34;The name of the package (Up to 25 characters)&#34;},&#34;overview&#34;:{&#34;type&#34;:&#34;string&#34;,&#34;maxLength&#34;:35,&#34;description&#34;:&#34;The overview of the package (Up to 35 characters)&#34;},&#34;description&#34;:{&#34;type&#34;:&#34;string&#34;,&#34;description&#34;:&#34;The description of the package&#34;},&#34;developer&#34;:{&#34;type&#34;:&#34;string&#34;,&#34;description&#34;:&#34;The name of the developer of the package&#34;},&#34;originalDeveloper&#34;:{&#34;type&#34;:&#34;string&#34;,&#34;description&#34;:&#34;The name of the developer of the package from which it was derived&#34;},&#34;dependencies&#34;:{&#34;type&#34;:&#34;array&#34;,&#34;items&#34;:{&#34;type&#34;:&#34;string&#34;,&#34;pattern&#34;:&#34;^(([A-Za-z0-9]+\\\\/[A-Za-z0-9]+)|(aviutl[A-Za-z0-9.]+)|(exedit[A-Za-z0-9.]+))(\\\\|(([A-Za-z0-9]+\\\\/[A-Za-z0-9]+)|(aviutl[A-Za-z0-9.]+)|(exedit[A-Za-z0-9.]+)))*$&#34;},&#34;description&#34;:&#34;ID of the package on which it depends&#34;},&#34;latestVersion&#34;:{&#34;type&#34;:&#34;string&#34;,&#34;description&#34;:&#34;The latest version of the package&#34;},&#34;files&#34;:{&#34;type&#34;:&#34;array&#34;,&#34;items&#34;:{&#34;type&#34;:&#34;object&#34;,&#34;properties&#34;:{&#34;filename&#34;:{&#34;type&#34;:&#34;string&#34;,&#34;description&#34;:&#34;The name of the file used in the package&#34;},&#34;isDirectory&#34;:{&#34;type&#34;:&#34;boolean&#34;,&#34;description&#34;:&#34;Whether it is a directory (Default: false)&#34;}},&#34;required&#34;:[&#34;filename&#34;],&#34;additionalProperties&#34;:false}}},&#34;required&#34;:[&#34;id&#34;,&#34;name&#34;,&#34;overview&#34;,&#34;description&#34;,&#34;developer&#34;,&#34;latestVersion&#34;,&#34;files&#34;],&#34;additionalProperties&#34;:false}\n----------------\n以下は、提供された情報から抜き出した文章です。\n\n**名前**: 花火スクリプト\n\n**作者名**: 野生の木屋P\n\n**300文字以内の説明**: 花火スクリプトはAviutl拡張編集用のアニメーション効果です。使い方はフィーリングで会得してください。詳細な情報は配布URLを参照してください。\n\n**インストールするにあたり参考になる情報**: インストール前に公式サイトの配布URLを確認してください。\n\n**インストールする手順**: パッケージの詳細手順は提供されていませんが、公式サイトの配布URLから手順を参照できるでしょう。\n\n**依存するAviUtlや拡張編集やその他要素のバージョン等を含む文**: 提供された情報からはAviUtlや拡張編集のバージョン情報はわかりませんでした。\n\n**依存するVisual C++ 再頒布可能パッケージ**: 提供された情報からはVisual C++ 再頒布可能パッケージの依存情報はわかりませんでした。\n\n**patch.aulの導入が必要か**: 提供された情報からはpatch.aulの導入が必要かどうかはわかりませんでした。\n\nパッケージの詳細手順や依存情報、必要なパッチの有無などについては、公式サイトの配布URLで詳細を確認してください。\n----------------\n今回インストールするパッケージの圧縮ファイルから読み取ったメタデータです。\narchiveModificationTime: 2023/09/08\narchiveName: tl_item_cut5.0.zip\nfiles:\n- tl_Item_cut.auf\nfolders: []\npageURL:\n- https://github.com/nazonoSAUNA/tl_Item_cut\n----------------\n今回作成するjsonファイルの例です。\n{&#34;id&#34;:&#34;hebiiro/ShowWaveform&#34;,&#34;description&#34;:&#34;拡張編集ウィンドウの音声アイテム内に音声波形を表示します。&#34;,&#34;overview&#34;:&#34;拡張編集ウインドウに音声波形を表示する&#34;,&#34;name&#34;:&#34;アイテム内音声波形&#34;,&#34;developer&#34;:&#34;hebiiro&#34;,&#34;dependencies&#34;:[&#34;aviutl1.10&#34;,&#34;exedit0.92&#34;,&#34;ePi/patch&#34;,&#34;MrOjii/LSMASHWorks|pop4bit/LSMASHWorks|VFRmaniac/LSMASHWorks|HolyWu/LSMASHWorks&#34;],&#34;latestVersion&#34;:&#34;7.2.0&#34;,&#34;files&#34;:[{&#34;filename&#34;:&#34;plugins/ShowWaveform.auf&#34;},{&#34;filename&#34;:&#34;plugins/ShowWaveform.ini&#34;},{&#34;filename&#34;:&#34;plugins/ShowWaveform&#34;,&#34;isDirectory&#34;:true}]}\n----------------\nここからが本文です。次の質問に回答してください。\n\n1. 上記の例を参考に、圧縮ファイル内のファイルをインストールするためのJsonを作成してください。\n- idは`{英字による作者名}/{バージョン番号を含まないパッケージ名}`形式かつパッケージ名はキャメルケースの半角英字です。AviUtlやプラグインやスクリプトという単語は使用禁止です。英字の作者名は説明、URLからの推測や、日本語の作者名を英語やローマ字に変換することで取得できます。それでもわからない場合は&#39;unknown&#39;としてください。\n- descriptionは自然な文章になるように推敲を行ってください。これまでの課題を書いては絶対にいけません。Visual C++ 再頒布可能パッケージが必要な場合は文章の最後に&#34;動作にはVisual C++ 再頒布可能パッケージ 20xx x86(32bit)のインストールが必要です。&#34;と追記してください。\n- overviewはdescriptionを35文字以内に要約したものです。AviUtlという単語は使用禁止です。\n- nameは日本語により25文字以内で表されるパッケージ名です。headersも参考にしてください。バージョン番号や、AviUtlやプラグインやスクリプトという単語は使用禁止です。\n- developerは日本語で記述できる場合は日本語にしてください。わからない場合は、idに含まれる作者名と同一にします。\n- dependenciesにはAviUtl(aviutl)、拡張編集(exedit)について依存するバージョンが指定されている場合は記述、バージョン指定のない場合は記述しないでください。&#39;ePi/patch&#39;(pacth.aul)について必要がある場合のみ記述。\n- latestVersionは配布されたファイルのバージョンです。圧縮ファイルのファイル名も参考にできます。なければ圧縮ファイルの更新日時をそのまま利用して構いません。\n- filesについては、基本的にすべてのファイルフォルダは必要であり指定されるべきです。特にインストール方法について指示がない場合、拡張子が.auf,.aui,.auo,.auc,.aulのファイルまたはそのファイルと同一の親フォルダに含まれる任意のファイル・フォルダは`plugins/` フォルダ、.anm,.obj,.cam,.tra,.scnのファイルまたはそのファイルと同一の親フォルダに含まれる任意のファイル・フォルダは`script/{idで指定した作者名}/`の中に配置するようにしてください。Readmeファイルやライセンスファイルやソースコードファイルやソースコードフォルダ内のファイルは不要のためファイル一覧に含めないでください。データ作成時は、最初にisDirectoryのあるエントリを記述し、次に、冗長な記述を防ぐためisDirectory指定したフォルダ内に含まれないファイルのみ記述してください。\n\n2.\nこれらの情報からjsonファイルを生成し上記のjson schemaによりエラーを出力して検証を行ってください。エラーのある場合はリトライしてください。その後、完成したjsonファイルのダウンロードリンクを提供してください。Pythonにschemaを入力する際はFalseの先頭を大文字にしてください。もし、json.dump()を使用する場合は ensure_ascii=Falseを指定してください。</textarea>"
          }
        },
        "e15f3b8288c543d180977f4ffa48015b": {
          "model_module": "@jupyter-widgets/base",
          "model_name": "LayoutModel",
          "model_module_version": "1.2.0",
          "state": {
            "_model_module": "@jupyter-widgets/base",
            "_model_module_version": "1.2.0",
            "_model_name": "LayoutModel",
            "_view_count": null,
            "_view_module": "@jupyter-widgets/base",
            "_view_module_version": "1.2.0",
            "_view_name": "LayoutView",
            "align_content": null,
            "align_items": null,
            "align_self": null,
            "border": null,
            "bottom": null,
            "display": null,
            "flex": null,
            "flex_flow": null,
            "grid_area": null,
            "grid_auto_columns": null,
            "grid_auto_flow": null,
            "grid_auto_rows": null,
            "grid_column": null,
            "grid_gap": null,
            "grid_row": null,
            "grid_template_areas": null,
            "grid_template_columns": null,
            "grid_template_rows": null,
            "height": null,
            "justify_content": null,
            "justify_items": null,
            "left": null,
            "margin": null,
            "max_height": null,
            "max_width": null,
            "min_height": null,
            "min_width": null,
            "object_fit": null,
            "object_position": null,
            "order": null,
            "overflow": null,
            "overflow_x": null,
            "overflow_y": null,
            "padding": null,
            "right": null,
            "top": null,
            "visibility": null,
            "width": null
          }
        },
        "a750a87fa3c946c8ada1961f33489f68": {
          "model_module": "@jupyter-widgets/controls",
          "model_name": "DescriptionStyleModel",
          "model_module_version": "1.5.0",
          "state": {
            "_model_module": "@jupyter-widgets/controls",
            "_model_module_version": "1.5.0",
            "_model_name": "DescriptionStyleModel",
            "_view_count": null,
            "_view_module": "@jupyter-widgets/base",
            "_view_module_version": "1.2.0",
            "_view_name": "StyleView",
            "description_width": ""
          }
        },
        "00cf27eecb6645b89d6cc77bc6052470": {
          "model_module": "@jupyter-widgets/controls",
          "model_name": "TextareaModel",
          "model_module_version": "1.5.0",
          "state": {
            "_dom_classes": [],
            "_model_module": "@jupyter-widgets/controls",
            "_model_module_version": "1.5.0",
            "_model_name": "TextareaModel",
            "_view_count": null,
            "_view_module": "@jupyter-widgets/controls",
            "_view_module_version": "1.5.0",
            "_view_name": "TextareaView",
            "continuous_update": true,
            "description": "",
            "description_tooltip": null,
            "disabled": false,
            "layout": "IPY_MODEL_4f5f352e4a9242a685c0df62ea6a68a2",
            "placeholder": "​",
            "rows": null,
            "style": "IPY_MODEL_3a8b80d1c36b4362a87a4ad2fcf53500",
            "value": ""
          }
        },
        "4f5f352e4a9242a685c0df62ea6a68a2": {
          "model_module": "@jupyter-widgets/base",
          "model_name": "LayoutModel",
          "model_module_version": "1.2.0",
          "state": {
            "_model_module": "@jupyter-widgets/base",
            "_model_module_version": "1.2.0",
            "_model_name": "LayoutModel",
            "_view_count": null,
            "_view_module": "@jupyter-widgets/base",
            "_view_module_version": "1.2.0",
            "_view_name": "LayoutView",
            "align_content": null,
            "align_items": null,
            "align_self": null,
            "border": null,
            "bottom": null,
            "display": null,
            "flex": null,
            "flex_flow": null,
            "grid_area": null,
            "grid_auto_columns": null,
            "grid_auto_flow": null,
            "grid_auto_rows": null,
            "grid_column": null,
            "grid_gap": null,
            "grid_row": null,
            "grid_template_areas": null,
            "grid_template_columns": null,
            "grid_template_rows": null,
            "height": null,
            "justify_content": null,
            "justify_items": null,
            "left": null,
            "margin": null,
            "max_height": null,
            "max_width": null,
            "min_height": null,
            "min_width": null,
            "object_fit": null,
            "object_position": null,
            "order": null,
            "overflow": null,
            "overflow_x": null,
            "overflow_y": null,
            "padding": null,
            "right": null,
            "top": null,
            "visibility": null,
            "width": null
          }
        },
        "3a8b80d1c36b4362a87a4ad2fcf53500": {
          "model_module": "@jupyter-widgets/controls",
          "model_name": "DescriptionStyleModel",
          "model_module_version": "1.5.0",
          "state": {
            "_model_module": "@jupyter-widgets/controls",
            "_model_module_version": "1.5.0",
            "_model_name": "DescriptionStyleModel",
            "_view_count": null,
            "_view_module": "@jupyter-widgets/base",
            "_view_module_version": "1.2.0",
            "_view_name": "StyleView",
            "description_width": ""
          }
        },
        "1378158a263647e1b2fa2160fa745d8b": {
          "model_module": "@jupyter-widgets/controls",
          "model_name": "HTMLModel",
          "model_module_version": "1.5.0",
          "state": {
            "_dom_classes": [],
            "_model_module": "@jupyter-widgets/controls",
            "_model_module_version": "1.5.0",
            "_model_name": "HTMLModel",
            "_view_count": null,
            "_view_module": "@jupyter-widgets/controls",
            "_view_module_version": "1.5.0",
            "_view_name": "HTMLView",
            "description": "",
            "description_tooltip": null,
            "layout": "IPY_MODEL_122021c9bf4145cbacdad2a2bef7a93d",
            "placeholder": "​",
            "style": "IPY_MODEL_1051b47682074aca9938aeff20006e04",
            "value": "<textarea  onfocus='this.select();' cols='70' rows='10'>{\n  &#34;id&#34;: &#34;NoyasekiyaP/HanabiScript&#34;,\n  &#34;name&#34;: &#34;花火スクリプト&#34;,\n  &#34;overview&#34;: &#34;Aviutl拡張編集用のアニメーション効果&#34;,\n  &#34;description&#34;: &#34;花火スクリプトはAviutl拡張編集用のアニメーション効果です。使い方はフィーリングで会得してください。詳細な情報は配布URLを参照してください。&#34;,\n  &#34;developer&#34;: &#34;野生の木屋P&#34;,\n  &#34;dependencies&#34;: [],\n  &#34;latestVersion&#34;: &#34;2012/02/08&#34;,\n  &#34;files&#34;: [\n    {\n      &#34;filename&#34;: &#34;script/NoyasekiyaP/@花火.anm&#34;,\n      &#34;error&#34;: &#34;存在しないエントリが指定されています。&#34;\n    }\n  ],\n  &#34;pageURL&#34;: [\n    &#34;https://github.com/nazonoSAUNA/tl_Item_cut&#34;\n  ],\n  &#34;downloadURLs&#34;: [\n    &#34;&#34;\n  ],\n  &#34;releases&#34;: [\n    {\n      &#34;version&#34;: &#34;2012/02/08&#34;,\n      &#34;integrity&#34;: {\n        &#34;archive&#34;: &#34;sha384-gQxLz2ui91Gr1cgIXvzU/2TnYs0BabzJRYPSArZcXLlWVwcZqq2BEj78VUJY03Io&#34;,\n        &#34;file&#34;: []\n      }\n    }\n  ]\n}</textarea>"
          }
        },
        "122021c9bf4145cbacdad2a2bef7a93d": {
          "model_module": "@jupyter-widgets/base",
          "model_name": "LayoutModel",
          "model_module_version": "1.2.0",
          "state": {
            "_model_module": "@jupyter-widgets/base",
            "_model_module_version": "1.2.0",
            "_model_name": "LayoutModel",
            "_view_count": null,
            "_view_module": "@jupyter-widgets/base",
            "_view_module_version": "1.2.0",
            "_view_name": "LayoutView",
            "align_content": null,
            "align_items": null,
            "align_self": null,
            "border": null,
            "bottom": null,
            "display": null,
            "flex": null,
            "flex_flow": null,
            "grid_area": null,
            "grid_auto_columns": null,
            "grid_auto_flow": null,
            "grid_auto_rows": null,
            "grid_column": null,
            "grid_gap": null,
            "grid_row": null,
            "grid_template_areas": null,
            "grid_template_columns": null,
            "grid_template_rows": null,
            "height": null,
            "justify_content": null,
            "justify_items": null,
            "left": null,
            "margin": null,
            "max_height": null,
            "max_width": null,
            "min_height": null,
            "min_width": null,
            "object_fit": null,
            "object_position": null,
            "order": null,
            "overflow": null,
            "overflow_x": null,
            "overflow_y": null,
            "padding": null,
            "right": null,
            "top": null,
            "visibility": null,
            "width": null
          }
        },
        "1051b47682074aca9938aeff20006e04": {
          "model_module": "@jupyter-widgets/controls",
          "model_name": "DescriptionStyleModel",
          "model_module_version": "1.5.0",
          "state": {
            "_model_module": "@jupyter-widgets/controls",
            "_model_module_version": "1.5.0",
            "_model_name": "DescriptionStyleModel",
            "_view_count": null,
            "_view_module": "@jupyter-widgets/base",
            "_view_module_version": "1.2.0",
            "_view_name": "StyleView",
            "description_width": ""
          }
        }
      }
    }
  },
  "nbformat": 4,
  "nbformat_minor": 0
}