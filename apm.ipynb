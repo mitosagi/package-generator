{
  "cells": [
    {
      "cell_type": "code",
      "execution_count": 1,
      "metadata": {
        "colab": {
          "base_uri": "https://localhost:8080/"
        },
        "id": "mSTUL1qmYVuQ",
        "outputId": "defa712c-b2f6-4f42-8de2-e19e571ecd2a"
      },
      "outputs": [
        {
          "output_type": "stream",
          "name": "stdout",
          "text": [
            "fatal: destination path 'summarize-readme' already exists and is not an empty directory.\n",
            "/content/summarize-readme\n",
            "  Preparing metadata (setup.py) ... \u001b[?25l\u001b[?25hdone\n"
          ]
        }
      ],
      "source": [
        "!git clone https://github.com/mitosagi/summarize-readme\n",
        "%cd /content/summarize-readme\n",
        "!pip install -qr requirements.txt\n",
        "\n",
        "from ipywidgets import Textarea, HTML\n",
        "from jinja2 import Template\n",
        "\n",
        "button_template = Template(\"<textarea  onfocus='this.select();' cols='70' rows='10'>{{text|e}}</textarea>\")"
      ]
    },
    {
      "cell_type": "code",
      "source": [
        "# 1. パッケージの説明文が含まれるURLを指定してください（複数可）。\n",
        "print('以下のURLから説明文を抽出します。')\n",
        "pageURL = ['https://www.nicovideo.jp/watch/sm16915418']\n",
        "print(pageURL)\n",
        "\n",
        "from google.colab import files\n",
        "print('パッケージの圧縮ファイルをアップロードしてください。')\n",
        "archivePath = [key for key in files.upload().keys()][0]\n",
        "\n",
        "print('以下のプロンプトをGPT3.5相当のLLMにて実行してください。')\n",
        "from pri_summarize import pri_summarize\n",
        "prompt = pri_summarize(pageURL, archivePath)\n",
        "HTML(button_template.render(text=prompt))\n"
      ],
      "metadata": {
        "colab": {
          "base_uri": "https://localhost:8080/",
          "height": 262,
          "referenced_widgets": [
            "8f047b0fcb784c0eb7c6da44e972da0b",
            "ace0f1e05db342489bb69d9a0649bd2c",
            "835f2f017eca47b7a4cce312c9bc13d6"
          ]
        },
        "id": "UW2gac-SZuWc",
        "outputId": "2082c5a2-735a-4d6d-fd13-109a79074843"
      },
      "execution_count": 2,
      "outputs": [
        {
          "output_type": "stream",
          "name": "stdout",
          "text": [
            "パッケージの圧縮ファイルをアップロードしてください。\n"
          ]
        },
        {
          "output_type": "display_data",
          "data": {
            "text/plain": [
              "<IPython.core.display.HTML object>"
            ],
            "text/html": [
              "\n",
              "     <input type=\"file\" id=\"files-ff8de9b5-67cc-4f95-bafd-3f235daf1f20\" name=\"files[]\" multiple disabled\n",
              "        style=\"border:none\" />\n",
              "     <output id=\"result-ff8de9b5-67cc-4f95-bafd-3f235daf1f20\">\n",
              "      Upload widget is only available when the cell has been executed in the\n",
              "      current browser session. Please rerun this cell to enable.\n",
              "      </output>\n",
              "      <script>// Copyright 2017 Google LLC\n",
              "//\n",
              "// Licensed under the Apache License, Version 2.0 (the \"License\");\n",
              "// you may not use this file except in compliance with the License.\n",
              "// You may obtain a copy of the License at\n",
              "//\n",
              "//      http://www.apache.org/licenses/LICENSE-2.0\n",
              "//\n",
              "// Unless required by applicable law or agreed to in writing, software\n",
              "// distributed under the License is distributed on an \"AS IS\" BASIS,\n",
              "// WITHOUT WARRANTIES OR CONDITIONS OF ANY KIND, either express or implied.\n",
              "// See the License for the specific language governing permissions and\n",
              "// limitations under the License.\n",
              "\n",
              "/**\n",
              " * @fileoverview Helpers for google.colab Python module.\n",
              " */\n",
              "(function(scope) {\n",
              "function span(text, styleAttributes = {}) {\n",
              "  const element = document.createElement('span');\n",
              "  element.textContent = text;\n",
              "  for (const key of Object.keys(styleAttributes)) {\n",
              "    element.style[key] = styleAttributes[key];\n",
              "  }\n",
              "  return element;\n",
              "}\n",
              "\n",
              "// Max number of bytes which will be uploaded at a time.\n",
              "const MAX_PAYLOAD_SIZE = 100 * 1024;\n",
              "\n",
              "function _uploadFiles(inputId, outputId) {\n",
              "  const steps = uploadFilesStep(inputId, outputId);\n",
              "  const outputElement = document.getElementById(outputId);\n",
              "  // Cache steps on the outputElement to make it available for the next call\n",
              "  // to uploadFilesContinue from Python.\n",
              "  outputElement.steps = steps;\n",
              "\n",
              "  return _uploadFilesContinue(outputId);\n",
              "}\n",
              "\n",
              "// This is roughly an async generator (not supported in the browser yet),\n",
              "// where there are multiple asynchronous steps and the Python side is going\n",
              "// to poll for completion of each step.\n",
              "// This uses a Promise to block the python side on completion of each step,\n",
              "// then passes the result of the previous step as the input to the next step.\n",
              "function _uploadFilesContinue(outputId) {\n",
              "  const outputElement = document.getElementById(outputId);\n",
              "  const steps = outputElement.steps;\n",
              "\n",
              "  const next = steps.next(outputElement.lastPromiseValue);\n",
              "  return Promise.resolve(next.value.promise).then((value) => {\n",
              "    // Cache the last promise value to make it available to the next\n",
              "    // step of the generator.\n",
              "    outputElement.lastPromiseValue = value;\n",
              "    return next.value.response;\n",
              "  });\n",
              "}\n",
              "\n",
              "/**\n",
              " * Generator function which is called between each async step of the upload\n",
              " * process.\n",
              " * @param {string} inputId Element ID of the input file picker element.\n",
              " * @param {string} outputId Element ID of the output display.\n",
              " * @return {!Iterable<!Object>} Iterable of next steps.\n",
              " */\n",
              "function* uploadFilesStep(inputId, outputId) {\n",
              "  const inputElement = document.getElementById(inputId);\n",
              "  inputElement.disabled = false;\n",
              "\n",
              "  const outputElement = document.getElementById(outputId);\n",
              "  outputElement.innerHTML = '';\n",
              "\n",
              "  const pickedPromise = new Promise((resolve) => {\n",
              "    inputElement.addEventListener('change', (e) => {\n",
              "      resolve(e.target.files);\n",
              "    });\n",
              "  });\n",
              "\n",
              "  const cancel = document.createElement('button');\n",
              "  inputElement.parentElement.appendChild(cancel);\n",
              "  cancel.textContent = 'Cancel upload';\n",
              "  const cancelPromise = new Promise((resolve) => {\n",
              "    cancel.onclick = () => {\n",
              "      resolve(null);\n",
              "    };\n",
              "  });\n",
              "\n",
              "  // Wait for the user to pick the files.\n",
              "  const files = yield {\n",
              "    promise: Promise.race([pickedPromise, cancelPromise]),\n",
              "    response: {\n",
              "      action: 'starting',\n",
              "    }\n",
              "  };\n",
              "\n",
              "  cancel.remove();\n",
              "\n",
              "  // Disable the input element since further picks are not allowed.\n",
              "  inputElement.disabled = true;\n",
              "\n",
              "  if (!files) {\n",
              "    return {\n",
              "      response: {\n",
              "        action: 'complete',\n",
              "      }\n",
              "    };\n",
              "  }\n",
              "\n",
              "  for (const file of files) {\n",
              "    const li = document.createElement('li');\n",
              "    li.append(span(file.name, {fontWeight: 'bold'}));\n",
              "    li.append(span(\n",
              "        `(${file.type || 'n/a'}) - ${file.size} bytes, ` +\n",
              "        `last modified: ${\n",
              "            file.lastModifiedDate ? file.lastModifiedDate.toLocaleDateString() :\n",
              "                                    'n/a'} - `));\n",
              "    const percent = span('0% done');\n",
              "    li.appendChild(percent);\n",
              "\n",
              "    outputElement.appendChild(li);\n",
              "\n",
              "    const fileDataPromise = new Promise((resolve) => {\n",
              "      const reader = new FileReader();\n",
              "      reader.onload = (e) => {\n",
              "        resolve(e.target.result);\n",
              "      };\n",
              "      reader.readAsArrayBuffer(file);\n",
              "    });\n",
              "    // Wait for the data to be ready.\n",
              "    let fileData = yield {\n",
              "      promise: fileDataPromise,\n",
              "      response: {\n",
              "        action: 'continue',\n",
              "      }\n",
              "    };\n",
              "\n",
              "    // Use a chunked sending to avoid message size limits. See b/62115660.\n",
              "    let position = 0;\n",
              "    do {\n",
              "      const length = Math.min(fileData.byteLength - position, MAX_PAYLOAD_SIZE);\n",
              "      const chunk = new Uint8Array(fileData, position, length);\n",
              "      position += length;\n",
              "\n",
              "      const base64 = btoa(String.fromCharCode.apply(null, chunk));\n",
              "      yield {\n",
              "        response: {\n",
              "          action: 'append',\n",
              "          file: file.name,\n",
              "          data: base64,\n",
              "        },\n",
              "      };\n",
              "\n",
              "      let percentDone = fileData.byteLength === 0 ?\n",
              "          100 :\n",
              "          Math.round((position / fileData.byteLength) * 100);\n",
              "      percent.textContent = `${percentDone}% done`;\n",
              "\n",
              "    } while (position < fileData.byteLength);\n",
              "  }\n",
              "\n",
              "  // All done.\n",
              "  yield {\n",
              "    response: {\n",
              "      action: 'complete',\n",
              "    }\n",
              "  };\n",
              "}\n",
              "\n",
              "scope.google = scope.google || {};\n",
              "scope.google.colab = scope.google.colab || {};\n",
              "scope.google.colab._files = {\n",
              "  _uploadFiles,\n",
              "  _uploadFilesContinue,\n",
              "};\n",
              "})(self);\n",
              "</script> "
            ]
          },
          "metadata": {}
        },
        {
          "output_type": "stream",
          "name": "stdout",
          "text": [
            "Saving 花火.zip to 花火 (8).zip\n",
            "以下のプロンプトをGPT3.5相当のLLMにて実行してください。\n"
          ]
        },
        {
          "output_type": "display_data",
          "data": {
            "text/plain": [
              "HTML(value=\"<textarea  onfocus='this.select();' cols='70' rows='10'>今回インストールするパッケージの圧縮ファイルから読み取ったメタデータです。\\narc…"
            ],
            "application/vnd.jupyter.widget-view+json": {
              "version_major": 2,
              "version_minor": 0,
              "model_id": "8f047b0fcb784c0eb7c6da44e972da0b"
            }
          },
          "metadata": {}
        }
      ]
    },
    {
      "cell_type": "code",
      "execution_count": 6,
      "metadata": {
        "colab": {
          "base_uri": "https://localhost:8080/",
          "height": 74,
          "referenced_widgets": [
            "a63bf3ab0b7446bc9ce69f0c21c57bef",
            "3d8bd5eb0e91464fa4a70e300d4f813b",
            "6ed32a8ddd68405dbf6abd6a1a0d702f"
          ]
        },
        "id": "o5o6k8KfYVuS",
        "outputId": "45e0abdb-a02c-46d9-8115-20019b3341f9"
      },
      "outputs": [
        {
          "output_type": "stream",
          "name": "stdout",
          "text": [
            "LLMの出力を以下の欄に貼り付けてください。\n"
          ]
        },
        {
          "output_type": "display_data",
          "data": {
            "text/plain": [
              "Textarea(value='')"
            ],
            "application/vnd.jupyter.widget-view+json": {
              "version_major": 2,
              "version_minor": 0,
              "model_id": "a63bf3ab0b7446bc9ce69f0c21c57bef"
            }
          },
          "metadata": {}
        }
      ],
      "source": [
        "# 2. GPT3.5の出力を以下の欄に貼り付けます。\n",
        "def get_input(change):\n",
        "    global GPT35out\n",
        "    GPT35out = change[\"new\"]\n",
        "textarea = Textarea()\n",
        "textarea.observe(get_input, names='value')\n",
        "print('LLMの出力を以下の欄に貼り付けてください。')\n",
        "display(textarea)"
      ]
    },
    {
      "cell_type": "code",
      "execution_count": 8,
      "metadata": {
        "colab": {
          "base_uri": "https://localhost:8080/",
          "height": 184,
          "referenced_widgets": [
            "fa3410e62bec486fab40e3ba7cd3e5c6",
            "fd8c0def9ddf4ac1b0d1d77c179e2166",
            "a289b4610e23496bbc818b691acf5773"
          ]
        },
        "id": "_AoWqV-WYVuS",
        "outputId": "911ef4f5-8e76-4c53-c4df-e0dedcaac717"
      },
      "outputs": [
        {
          "output_type": "stream",
          "name": "stdout",
          "text": [
            "以下のプロンプトをGPT4相当のLLMにて実行してください。\n"
          ]
        },
        {
          "output_type": "display_data",
          "data": {
            "text/plain": [
              "HTML(value=\"<textarea  onfocus='this.select();' cols='70' rows='10'>以下はjson schemaです。\\n{&#34;type&#34;:&#34;ob…"
            ],
            "application/vnd.jupyter.widget-view+json": {
              "version_major": 2,
              "version_minor": 0,
              "model_id": "fa3410e62bec486fab40e3ba7cd3e5c6"
            }
          },
          "metadata": {}
        }
      ],
      "source": [
        "# 3. GPT4用のプロンプトを作成します。\n",
        "from pri_infer import pri_infer\n",
        "prompt = pri_infer(GPT35out)\n",
        "print('以下のプロンプトをGPT4相当のLLMにて実行してください。')\n",
        "HTML(button_template.render(text=prompt))"
      ]
    },
    {
      "cell_type": "code",
      "execution_count": 9,
      "metadata": {
        "colab": {
          "base_uri": "https://localhost:8080/",
          "height": 74,
          "referenced_widgets": [
            "0d75a5a8336043ea96ce593a58d11d59",
            "e96b1ed8e530415dbc1f18a2a7dca105",
            "561c9c2e275540c4b391d894c22966ef"
          ]
        },
        "id": "Yirc-mdUYVuS",
        "outputId": "9231331d-71f7-4d87-84ad-b1007440b47e"
      },
      "outputs": [
        {
          "output_type": "stream",
          "name": "stdout",
          "text": [
            "LLMの出力を以下の欄に貼り付けてください。\n"
          ]
        },
        {
          "output_type": "display_data",
          "data": {
            "text/plain": [
              "Textarea(value='')"
            ],
            "application/vnd.jupyter.widget-view+json": {
              "version_major": 2,
              "version_minor": 0,
              "model_id": "0d75a5a8336043ea96ce593a58d11d59"
            }
          },
          "metadata": {}
        }
      ],
      "source": [
        "# 4. GPT4の出力を以下の欄に貼り付けます。\n",
        "def get_input(change):\n",
        "    global GPT4out\n",
        "    GPT4out = change[\"new\"]\n",
        "textarea = Textarea()\n",
        "textarea.observe(get_input, names='value')\n",
        "print('LLMの出力を以下の欄に貼り付けてください。')\n",
        "display(textarea)"
      ]
    },
    {
      "cell_type": "code",
      "execution_count": 10,
      "metadata": {
        "colab": {
          "base_uri": "https://localhost:8080/",
          "height": 167,
          "referenced_widgets": [
            "45270ec24cfc475599f8a1225c09349d",
            "8cb26a2c016c4672aef60f03fbe209bf",
            "39f37649ed624ec0811f3917aecadcca"
          ]
        },
        "id": "XKitIezHYVuT",
        "outputId": "ce022f5a-3356-4470-c2db-8cf6082e0128"
      },
      "outputs": [
        {
          "output_type": "display_data",
          "data": {
            "text/plain": [
              "HTML(value=\"<textarea  onfocus='this.select();' cols='70' rows='10'>{\\n  &#34;id&#34;: &#34;NoyasekiyaP/Hanabi…"
            ],
            "application/vnd.jupyter.widget-view+json": {
              "version_major": 2,
              "version_minor": 0,
              "model_id": "45270ec24cfc475599f8a1225c09349d"
            }
          },
          "metadata": {}
        }
      ],
      "source": [
        "# 5. apm用のデータを出力します。\n",
        "from post_infer import post_infer\n",
        "import json\n",
        "prompt = json.dumps(post_infer(GPT4out), indent=2, ensure_ascii=False)\n",
        "HTML(button_template.render(text=prompt))"
      ]
    },
    {
      "cell_type": "code",
      "execution_count": null,
      "metadata": {
        "id": "9-TqtOXZYVuT"
      },
      "outputs": [],
      "source": []
    }
  ],
  "metadata": {
    "kernelspec": {
      "display_name": ".venv",
      "language": "python",
      "name": "python3"
    },
    "language_info": {
      "codemirror_mode": {
        "name": "ipython",
        "version": 3
      },
      "file_extension": ".py",
      "mimetype": "text/x-python",
      "name": "python",
      "nbconvert_exporter": "python",
      "pygments_lexer": "ipython3",
      "version": "3.10.12"
    },
    "orig_nbformat": 4,
    "colab": {
      "provenance": []
    },
    "widgets": {
      "application/vnd.jupyter.widget-state+json": {
        "8f047b0fcb784c0eb7c6da44e972da0b": {
          "model_module": "@jupyter-widgets/controls",
          "model_name": "HTMLModel",
          "model_module_version": "1.5.0",
          "state": {
            "_dom_classes": [],
            "_model_module": "@jupyter-widgets/controls",
            "_model_module_version": "1.5.0",
            "_model_name": "HTMLModel",
            "_view_count": null,
            "_view_module": "@jupyter-widgets/controls",
            "_view_module_version": "1.5.0",
            "_view_name": "HTMLView",
            "description": "",
            "description_tooltip": null,
            "layout": "IPY_MODEL_ace0f1e05db342489bb69d9a0649bd2c",
            "placeholder": "​",
            "style": "IPY_MODEL_835f2f017eca47b7a4cce312c9bc13d6",
            "value": "<textarea  onfocus='this.select();' cols='70' rows='10'>今回インストールするパッケージの圧縮ファイルから読み取ったメタデータです。\narchiveModificationTime: 2012/02/08\narchiveName: 花火 (8).zip\nfiles:\n- &#39;@花火.anm&#39;\nfolders: []\npageURL:\n- https://www.nicovideo.jp/watch/sm16915418\n\n----------------\n公式サイトの説明です。\n&lt;?xml version=&#34;1.0&#34; encoding=&#34;UTF-8&#34;?&gt;\n&lt;nicovideo_thumb_response status=&#34;ok&#34;&gt;\n  &lt;thumb&gt;\n    &lt;video_id&gt;sm16915418&lt;/video_id&gt;\n    &lt;title&gt;【Aviutl拡張編集】花火スクリプト&lt;/title&gt;\n    &lt;description&gt;Aviutl拡張編集用のアニメーション効果です。使い方はフィーリングで会得してください(ﾉ∀`)配布URLhttp://ux.getuploader.com/yaseiP/&lt;/description&gt;\n    &lt;thumbnail_url&gt;https://nicovideo.cdn.nimg.jp/thumbnails/16915418/16915418&lt;/thumbnail_url&gt;\n    &lt;first_retrieve&gt;2012-02-08T23:00:26+09:00&lt;/first_retrieve&gt;\n    &lt;length&gt;1:05&lt;/length&gt;\n    &lt;movie_type&gt;mp4&lt;/movie_type&gt;\n    &lt;size_high&gt;8684274&lt;/size_high&gt;\n    &lt;size_low&gt;3517669&lt;/size_low&gt;\n    &lt;view_counter&gt;26534&lt;/view_counter&gt;\n    &lt;comment_num&gt;65&lt;/comment_num&gt;\n    &lt;mylist_counter&gt;585&lt;/mylist_counter&gt;\n    &lt;last_res_body&gt;お借りします！ すごすぎﾜﾛﾀ ありがとうございます たーまやー お借りします！ お借りします！！！！ 拡大率に限界があるの ゆきぽ！ 花火と並んでダブルゆ 雪歩 てってってー ｗｗｗ お借りしました　すっ &lt;/last_res_body&gt;\n    &lt;watch_url&gt;https://www.nicovideo.jp/watch/sm16915418&lt;/watch_url&gt;\n    &lt;thumb_type&gt;video&lt;/thumb_type&gt;\n    &lt;embeddable&gt;1&lt;/embeddable&gt;\n    &lt;no_live_play&gt;0&lt;/no_live_play&gt;\n    &lt;tags domain=&#34;jp&#34;&gt;\n      &lt;tag lock=&#34;1&#34;&gt;ニコニコ動画講座&lt;/tag&gt;\n      &lt;tag lock=&#34;1&#34;&gt;Aviutl&lt;/tag&gt;\n      &lt;tag lock=&#34;1&#34;&gt;AviUtl講座&lt;/tag&gt;\n      &lt;tag lock=&#34;1&#34;&gt;AviUtlスクリプト講座&lt;/tag&gt;\n      &lt;tag&gt;野生の木屋P&lt;/tag&gt;\n      &lt;tag&gt;AviUtlスクリプト配布あり&lt;/tag&gt;\n      &lt;tag&gt;花火&lt;/tag&gt;\n    &lt;/tags&gt;\n    &lt;genre&gt;解説・講座&lt;/genre&gt;\n    &lt;user_id&gt;697836&lt;/user_id&gt;\n    &lt;user_nickname&gt;野生の木屋P&lt;/user_nickname&gt;\n    &lt;user_icon_url&gt;https://secure-dcdn.cdn.nimg.jp/nicoaccount/usericon/s/69/697836.jpg?1278265069&lt;/user_icon_url&gt;\n  &lt;/thumb&gt;\n&lt;/nicovideo_thumb_response&gt;\n----------------\n圧縮ファイルに含まれるReadmeファイルの説明です。\n\n----------------\nここまでがパッケージの情報です。ここからは天才でありどんな仕事でもできるあなたへのお願いです。\nこのパッケージについて以下の内容を含む文章を抜き出してください。不明の場合は不明と書いてください。\n- 名前\n- 作者名\n- 300文字以内の説明\n- インストールするにあたり参考になる情報\n- インストールする手順\n- 依存するAviUtlや拡張編集やその他要素のバージョン等を含む文\n- 依存するVisual C++ 再頒布可能パッケージ\n- patch.aulの導入が必要か\n</textarea>"
          }
        },
        "ace0f1e05db342489bb69d9a0649bd2c": {
          "model_module": "@jupyter-widgets/base",
          "model_name": "LayoutModel",
          "model_module_version": "1.2.0",
          "state": {
            "_model_module": "@jupyter-widgets/base",
            "_model_module_version": "1.2.0",
            "_model_name": "LayoutModel",
            "_view_count": null,
            "_view_module": "@jupyter-widgets/base",
            "_view_module_version": "1.2.0",
            "_view_name": "LayoutView",
            "align_content": null,
            "align_items": null,
            "align_self": null,
            "border": null,
            "bottom": null,
            "display": null,
            "flex": null,
            "flex_flow": null,
            "grid_area": null,
            "grid_auto_columns": null,
            "grid_auto_flow": null,
            "grid_auto_rows": null,
            "grid_column": null,
            "grid_gap": null,
            "grid_row": null,
            "grid_template_areas": null,
            "grid_template_columns": null,
            "grid_template_rows": null,
            "height": null,
            "justify_content": null,
            "justify_items": null,
            "left": null,
            "margin": null,
            "max_height": null,
            "max_width": null,
            "min_height": null,
            "min_width": null,
            "object_fit": null,
            "object_position": null,
            "order": null,
            "overflow": null,
            "overflow_x": null,
            "overflow_y": null,
            "padding": null,
            "right": null,
            "top": null,
            "visibility": null,
            "width": null
          }
        },
        "835f2f017eca47b7a4cce312c9bc13d6": {
          "model_module": "@jupyter-widgets/controls",
          "model_name": "DescriptionStyleModel",
          "model_module_version": "1.5.0",
          "state": {
            "_model_module": "@jupyter-widgets/controls",
            "_model_module_version": "1.5.0",
            "_model_name": "DescriptionStyleModel",
            "_view_count": null,
            "_view_module": "@jupyter-widgets/base",
            "_view_module_version": "1.2.0",
            "_view_name": "StyleView",
            "description_width": ""
          }
        },
        "a63bf3ab0b7446bc9ce69f0c21c57bef": {
          "model_module": "@jupyter-widgets/controls",
          "model_name": "TextareaModel",
          "model_module_version": "1.5.0",
          "state": {
            "_dom_classes": [],
            "_model_module": "@jupyter-widgets/controls",
            "_model_module_version": "1.5.0",
            "_model_name": "TextareaModel",
            "_view_count": null,
            "_view_module": "@jupyter-widgets/controls",
            "_view_module_version": "1.5.0",
            "_view_name": "TextareaView",
            "continuous_update": true,
            "description": "",
            "description_tooltip": null,
            "disabled": false,
            "layout": "IPY_MODEL_3d8bd5eb0e91464fa4a70e300d4f813b",
            "placeholder": "​",
            "rows": null,
            "style": "IPY_MODEL_6ed32a8ddd68405dbf6abd6a1a0d702f",
            "value": "以下は、提供された情報から抜き出した文章です。\n\n**名前**: 花火スクリプト\n\n**作者名**: 野生の木屋P\n\n**300文字以内の説明**: 花火スクリプトはAviutl拡張編集用のアニメーション効果です。使い方はフィーリングで会得してください。詳細な情報は配布URLを参照してください。\n\n**インストールするにあたり参考になる情報**: インストール前に公式サイトの配布URLを確認してください。\n\n**インストールする手順**: パッケージの詳細手順は提供されていませんが、公式サイトの配布URLから手順を参照できるでしょう。\n\n**依存するAviUtlや拡張編集やその他要素のバージョン等を含む文**: 提供された情報からはAviUtlや拡張編集のバージョン情報はわかりませんでした。\n\n**依存するVisual C++ 再頒布可能パッケージ**: 提供された情報からはVisual C++ 再頒布可能パッケージの依存情報はわかりませんでした。\n\n**patch.aulの導入が必要か**: 提供された情報からはpatch.aulの導入が必要かどうかはわかりませんでした。\n\nパッケージの詳細手順や依存情報、必要なパッチの有無などについては、公式サイトの配布URLで詳細を確認してください。"
          }
        },
        "3d8bd5eb0e91464fa4a70e300d4f813b": {
          "model_module": "@jupyter-widgets/base",
          "model_name": "LayoutModel",
          "model_module_version": "1.2.0",
          "state": {
            "_model_module": "@jupyter-widgets/base",
            "_model_module_version": "1.2.0",
            "_model_name": "LayoutModel",
            "_view_count": null,
            "_view_module": "@jupyter-widgets/base",
            "_view_module_version": "1.2.0",
            "_view_name": "LayoutView",
            "align_content": null,
            "align_items": null,
            "align_self": null,
            "border": null,
            "bottom": null,
            "display": null,
            "flex": null,
            "flex_flow": null,
            "grid_area": null,
            "grid_auto_columns": null,
            "grid_auto_flow": null,
            "grid_auto_rows": null,
            "grid_column": null,
            "grid_gap": null,
            "grid_row": null,
            "grid_template_areas": null,
            "grid_template_columns": null,
            "grid_template_rows": null,
            "height": null,
            "justify_content": null,
            "justify_items": null,
            "left": null,
            "margin": null,
            "max_height": null,
            "max_width": null,
            "min_height": null,
            "min_width": null,
            "object_fit": null,
            "object_position": null,
            "order": null,
            "overflow": null,
            "overflow_x": null,
            "overflow_y": null,
            "padding": null,
            "right": null,
            "top": null,
            "visibility": null,
            "width": null
          }
        },
        "6ed32a8ddd68405dbf6abd6a1a0d702f": {
          "model_module": "@jupyter-widgets/controls",
          "model_name": "DescriptionStyleModel",
          "model_module_version": "1.5.0",
          "state": {
            "_model_module": "@jupyter-widgets/controls",
            "_model_module_version": "1.5.0",
            "_model_name": "DescriptionStyleModel",
            "_view_count": null,
            "_view_module": "@jupyter-widgets/base",
            "_view_module_version": "1.2.0",
            "_view_name": "StyleView",
            "description_width": ""
          }
        },
        "fa3410e62bec486fab40e3ba7cd3e5c6": {
          "model_module": "@jupyter-widgets/controls",
          "model_name": "HTMLModel",
          "model_module_version": "1.5.0",
          "state": {
            "_dom_classes": [],
            "_model_module": "@jupyter-widgets/controls",
            "_model_module_version": "1.5.0",
            "_model_name": "HTMLModel",
            "_view_count": null,
            "_view_module": "@jupyter-widgets/controls",
            "_view_module_version": "1.5.0",
            "_view_name": "HTMLView",
            "description": "",
            "description_tooltip": null,
            "layout": "IPY_MODEL_fd8c0def9ddf4ac1b0d1d77c179e2166",
            "placeholder": "​",
            "style": "IPY_MODEL_a289b4610e23496bbc818b691acf5773",
            "value": "<textarea  onfocus='this.select();' cols='70' rows='10'>以下はjson schemaです。\n{&#34;type&#34;:&#34;object&#34;,&#34;properties&#34;:{&#34;id&#34;:{&#34;type&#34;:&#34;string&#34;,&#34;pattern&#34;:&#34;^[a-zA-Z0-9]+/[a-zA-Z0-9]+$&#34;,&#34;description&#34;:&#34;The ID of the package (Non-duplicated alphanumeric characters. Use a file name that represents the package. If there is no representative name, use the archive file name. If there is a possibility of duplication, such as only one word, prefix it with the developer&#39;s name.)&#34;},&#34;name&#34;:{&#34;type&#34;:&#34;string&#34;,&#34;maxLength&#34;:25,&#34;description&#34;:&#34;The name of the package (Up to 25 characters)&#34;},&#34;overview&#34;:{&#34;type&#34;:&#34;string&#34;,&#34;maxLength&#34;:35,&#34;description&#34;:&#34;The overview of the package (Up to 35 characters)&#34;},&#34;description&#34;:{&#34;type&#34;:&#34;string&#34;,&#34;description&#34;:&#34;The description of the package&#34;},&#34;developer&#34;:{&#34;type&#34;:&#34;string&#34;,&#34;description&#34;:&#34;The name of the developer of the package&#34;},&#34;originalDeveloper&#34;:{&#34;type&#34;:&#34;string&#34;,&#34;description&#34;:&#34;The name of the developer of the package from which it was derived&#34;},&#34;dependencies&#34;:{&#34;type&#34;:&#34;array&#34;,&#34;items&#34;:{&#34;type&#34;:&#34;string&#34;,&#34;pattern&#34;:&#34;^(([A-Za-z0-9]+\\\\/[A-Za-z0-9]+)|(aviutl[A-Za-z0-9.]+)|(exedit[A-Za-z0-9.]+))(\\\\|(([A-Za-z0-9]+\\\\/[A-Za-z0-9]+)|(aviutl[A-Za-z0-9.]+)|(exedit[A-Za-z0-9.]+)))*$&#34;},&#34;description&#34;:&#34;ID of the package on which it depends&#34;},&#34;latestVersion&#34;:{&#34;type&#34;:&#34;string&#34;,&#34;description&#34;:&#34;The latest version of the package&#34;},&#34;files&#34;:{&#34;type&#34;:&#34;array&#34;,&#34;items&#34;:{&#34;type&#34;:&#34;object&#34;,&#34;properties&#34;:{&#34;filename&#34;:{&#34;type&#34;:&#34;string&#34;,&#34;description&#34;:&#34;The name of the file used in the package&#34;},&#34;isDirectory&#34;:{&#34;type&#34;:&#34;boolean&#34;,&#34;description&#34;:&#34;Whether it is a directory (Default: false)&#34;}},&#34;required&#34;:[&#34;filename&#34;],&#34;additionalProperties&#34;:false}}},&#34;required&#34;:[&#34;id&#34;,&#34;name&#34;,&#34;overview&#34;,&#34;description&#34;,&#34;developer&#34;,&#34;latestVersion&#34;,&#34;files&#34;],&#34;additionalProperties&#34;:false}\n----------------\n以下は、提供された情報から抜き出した文章です。\n\n**名前**: 花火スクリプト\n\n**作者名**: 野生の木屋P\n\n**300文字以内の説明**: 花火スクリプトはAviutl拡張編集用のアニメーション効果です。使い方はフィーリングで会得してください。詳細な情報は配布URLを参照してください。\n\n**インストールするにあたり参考になる情報**: インストール前に公式サイトの配布URLを確認してください。\n\n**インストールする手順**: パッケージの詳細手順は提供されていませんが、公式サイトの配布URLから手順を参照できるでしょう。\n\n**依存するAviUtlや拡張編集やその他要素のバージョン等を含む文**: 提供された情報からはAviUtlや拡張編集のバージョン情報はわかりませんでした。\n\n**依存するVisual C++ 再頒布可能パッケージ**: 提供された情報からはVisual C++ 再頒布可能パッケージの依存情報はわかりませんでした。\n\n**patch.aulの導入が必要か**: 提供された情報からはpatch.aulの導入が必要かどうかはわかりませんでした。\n\nパッケージの詳細手順や依存情報、必要なパッチの有無などについては、公式サイトの配布URLで詳細を確認してください。\n----------------\n今回インストールするパッケージの圧縮ファイルから読み取ったメタデータです。\narchiveModificationTime: 2012/02/08\narchiveName: 花火 (8).zip\nfiles:\n- &#39;@花火.anm&#39;\nfolders: []\npageURL:\n- https://www.nicovideo.jp/watch/sm16915418\n----------------\n今回作成するjsonファイルの例です。\n{&#34;id&#34;:&#34;hebiiro/ShowWaveform&#34;,&#34;description&#34;:&#34;拡張編集ウィンドウの音声アイテム内に音声波形を表示します。&#34;,&#34;overview&#34;:&#34;拡張編集ウインドウに音声波形を表示する&#34;,&#34;name&#34;:&#34;アイテム内音声波形&#34;,&#34;developer&#34;:&#34;hebiiro&#34;,&#34;dependencies&#34;:[&#34;aviutl1.10&#34;,&#34;exedit0.92&#34;,&#34;ePi/patch&#34;,&#34;MrOjii/LSMASHWorks|pop4bit/LSMASHWorks|VFRmaniac/LSMASHWorks|HolyWu/LSMASHWorks&#34;],&#34;latestVersion&#34;:&#34;7.2.0&#34;,&#34;files&#34;:[{&#34;filename&#34;:&#34;plugins/ShowWaveform.auf&#34;},{&#34;filename&#34;:&#34;plugins/ShowWaveform.ini&#34;},{&#34;filename&#34;:&#34;plugins/ShowWaveform&#34;,&#34;isDirectory&#34;:true}]}\n----------------\nここからが本文です。次の質問に回答してください。\n\n1. 上記の例を参考に、圧縮ファイル内のファイルをインストールするためのJsonを作成してください。\n- idは`{英字による作者名}/{バージョン番号を含まないパッケージ名}`形式かつパッケージ名はキャメルケースの半角英字です。AviUtlやプラグインやスクリプトという単語は使用禁止です。英字の作者名は説明、URLからの推測や、日本語の作者名を英語やローマ字に変換することで取得できます。それでもわからない場合は&#39;unknown&#39;としてください。\n- descriptionは自然な文章になるように推敲を行ってください。これまでの課題を書いては絶対にいけません。Visual C++ 再頒布可能パッケージが必要な場合は文章の最後に&#34;動作にはVisual C++ 再頒布可能パッケージ 20xx x86(32bit)のインストールが必要です。&#34;と追記してください。\n- overviewはdescriptionを35文字以内に要約したものです。AviUtlという単語は使用禁止です。\n- nameは日本語により25文字以内で表されるパッケージ名です。headersも参考にしてください。バージョン番号や、AviUtlやプラグインやスクリプトという単語は使用禁止です。\n- developerは日本語で記述できる場合は日本語にしてください。わからない場合は、idに含まれる作者名と同一にします。\n- dependenciesにはAviUtl(aviutl)、拡張編集(exedit)について依存するバージョンが指定されている場合は記述、バージョン指定のない場合は記述しないでください。&#39;ePi/patch&#39;(pacth.aul)について必要がある場合のみ記述。\n- latestVersionは配布されたファイルのバージョンです。圧縮ファイルのファイル名も参考にできます。なければ圧縮ファイルの更新日時をそのまま利用して構いません。\n- filesについては、基本的にすべてのファイルフォルダは必要であり指定されるべきです。特にインストール方法について指示がない場合、拡張子が.auf,.aui,.auo,.auc,.aulのファイルまたはそのファイルと同一の親フォルダに含まれる任意のファイル・フォルダは`plugins/` フォルダ、.anm,.obj,.cam,.tra,.scnのファイルまたはそのファイルと同一の親フォルダに含まれる任意のファイル・フォルダは`script/{idで指定した作者名}/`の中に配置するようにしてください。Readmeファイルやライセンスファイルやソースコードファイルやソースコードフォルダ内のファイルは不要のためファイル一覧に含めないでください。データ作成時は、最初にisDirectoryのあるエントリを記述し、次に、冗長な記述を防ぐためisDirectory指定したフォルダ内に含まれないファイルのみ記述してください。\n\n2.\nこれらの情報からjsonファイルを生成し上記のjson schemaによりエラーを出力して検証を行ってください。エラーのある場合はリトライしてください。その後、完成したjsonファイルのダウンロードリンクを提供してください。Pythonにschemaを入力する際はFalseの先頭を大文字にしてください。もし、json.dump()を使用する場合は ensure_ascii=Falseを指定してください。</textarea>"
          }
        },
        "fd8c0def9ddf4ac1b0d1d77c179e2166": {
          "model_module": "@jupyter-widgets/base",
          "model_name": "LayoutModel",
          "model_module_version": "1.2.0",
          "state": {
            "_model_module": "@jupyter-widgets/base",
            "_model_module_version": "1.2.0",
            "_model_name": "LayoutModel",
            "_view_count": null,
            "_view_module": "@jupyter-widgets/base",
            "_view_module_version": "1.2.0",
            "_view_name": "LayoutView",
            "align_content": null,
            "align_items": null,
            "align_self": null,
            "border": null,
            "bottom": null,
            "display": null,
            "flex": null,
            "flex_flow": null,
            "grid_area": null,
            "grid_auto_columns": null,
            "grid_auto_flow": null,
            "grid_auto_rows": null,
            "grid_column": null,
            "grid_gap": null,
            "grid_row": null,
            "grid_template_areas": null,
            "grid_template_columns": null,
            "grid_template_rows": null,
            "height": null,
            "justify_content": null,
            "justify_items": null,
            "left": null,
            "margin": null,
            "max_height": null,
            "max_width": null,
            "min_height": null,
            "min_width": null,
            "object_fit": null,
            "object_position": null,
            "order": null,
            "overflow": null,
            "overflow_x": null,
            "overflow_y": null,
            "padding": null,
            "right": null,
            "top": null,
            "visibility": null,
            "width": null
          }
        },
        "a289b4610e23496bbc818b691acf5773": {
          "model_module": "@jupyter-widgets/controls",
          "model_name": "DescriptionStyleModel",
          "model_module_version": "1.5.0",
          "state": {
            "_model_module": "@jupyter-widgets/controls",
            "_model_module_version": "1.5.0",
            "_model_name": "DescriptionStyleModel",
            "_view_count": null,
            "_view_module": "@jupyter-widgets/base",
            "_view_module_version": "1.2.0",
            "_view_name": "StyleView",
            "description_width": ""
          }
        },
        "0d75a5a8336043ea96ce593a58d11d59": {
          "model_module": "@jupyter-widgets/controls",
          "model_name": "TextareaModel",
          "model_module_version": "1.5.0",
          "state": {
            "_dom_classes": [],
            "_model_module": "@jupyter-widgets/controls",
            "_model_module_version": "1.5.0",
            "_model_name": "TextareaModel",
            "_view_count": null,
            "_view_module": "@jupyter-widgets/controls",
            "_view_module_version": "1.5.0",
            "_view_name": "TextareaView",
            "continuous_update": true,
            "description": "",
            "description_tooltip": null,
            "disabled": false,
            "layout": "IPY_MODEL_e96b1ed8e530415dbc1f18a2a7dca105",
            "placeholder": "​",
            "rows": null,
            "style": "IPY_MODEL_561c9c2e275540c4b391d894c22966ef",
            "value": "{\n    \"id\": \"NoyasekiyaP/HanabiScript\",\n    \"name\": \"花火スクリプト\",\n    \"overview\": \"Aviutl拡張編集用のアニメーション効果\",\n    \"description\": \"花火スクリプトはAviutl拡張編集用のアニメーション効果です。使い方はフィーリングで会得してください。詳細な情報は配布URLを参照してください。\",\n    \"developer\": \"野生の木屋P\",\n    \"dependencies\": [],\n    \"latestVersion\": \"2012/02/08\",\n    \"files\": [\n        {\n            \"filename\": \"script/NoyasekiyaP/@花火.anm\"\n        }\n    ]\n}"
          }
        },
        "e96b1ed8e530415dbc1f18a2a7dca105": {
          "model_module": "@jupyter-widgets/base",
          "model_name": "LayoutModel",
          "model_module_version": "1.2.0",
          "state": {
            "_model_module": "@jupyter-widgets/base",
            "_model_module_version": "1.2.0",
            "_model_name": "LayoutModel",
            "_view_count": null,
            "_view_module": "@jupyter-widgets/base",
            "_view_module_version": "1.2.0",
            "_view_name": "LayoutView",
            "align_content": null,
            "align_items": null,
            "align_self": null,
            "border": null,
            "bottom": null,
            "display": null,
            "flex": null,
            "flex_flow": null,
            "grid_area": null,
            "grid_auto_columns": null,
            "grid_auto_flow": null,
            "grid_auto_rows": null,
            "grid_column": null,
            "grid_gap": null,
            "grid_row": null,
            "grid_template_areas": null,
            "grid_template_columns": null,
            "grid_template_rows": null,
            "height": null,
            "justify_content": null,
            "justify_items": null,
            "left": null,
            "margin": null,
            "max_height": null,
            "max_width": null,
            "min_height": null,
            "min_width": null,
            "object_fit": null,
            "object_position": null,
            "order": null,
            "overflow": null,
            "overflow_x": null,
            "overflow_y": null,
            "padding": null,
            "right": null,
            "top": null,
            "visibility": null,
            "width": null
          }
        },
        "561c9c2e275540c4b391d894c22966ef": {
          "model_module": "@jupyter-widgets/controls",
          "model_name": "DescriptionStyleModel",
          "model_module_version": "1.5.0",
          "state": {
            "_model_module": "@jupyter-widgets/controls",
            "_model_module_version": "1.5.0",
            "_model_name": "DescriptionStyleModel",
            "_view_count": null,
            "_view_module": "@jupyter-widgets/base",
            "_view_module_version": "1.2.0",
            "_view_name": "StyleView",
            "description_width": ""
          }
        },
        "45270ec24cfc475599f8a1225c09349d": {
          "model_module": "@jupyter-widgets/controls",
          "model_name": "HTMLModel",
          "model_module_version": "1.5.0",
          "state": {
            "_dom_classes": [],
            "_model_module": "@jupyter-widgets/controls",
            "_model_module_version": "1.5.0",
            "_model_name": "HTMLModel",
            "_view_count": null,
            "_view_module": "@jupyter-widgets/controls",
            "_view_module_version": "1.5.0",
            "_view_name": "HTMLView",
            "description": "",
            "description_tooltip": null,
            "layout": "IPY_MODEL_8cb26a2c016c4672aef60f03fbe209bf",
            "placeholder": "​",
            "style": "IPY_MODEL_39f37649ed624ec0811f3917aecadcca",
            "value": "<textarea  onfocus='this.select();' cols='70' rows='10'>{\n  &#34;id&#34;: &#34;NoyasekiyaP/HanabiScript&#34;,\n  &#34;name&#34;: &#34;花火スクリプト&#34;,\n  &#34;overview&#34;: &#34;Aviutl拡張編集用のアニメーション効果&#34;,\n  &#34;description&#34;: &#34;花火スクリプトはAviutl拡張編集用のアニメーション効果です。使い方はフィーリングで会得してください。詳細な情報は配布URLを参照してください。&#34;,\n  &#34;developer&#34;: &#34;野生の木屋P&#34;,\n  &#34;dependencies&#34;: [],\n  &#34;latestVersion&#34;: &#34;2012/02/08&#34;,\n  &#34;files&#34;: [\n    {\n      &#34;filename&#34;: &#34;script/NoyasekiyaP/@花火.anm&#34;\n    }\n  ],\n  &#34;pageURL&#34;: [\n    &#34;https://www.nicovideo.jp/watch/sm16915418&#34;\n  ],\n  &#34;downloadURLs&#34;: [\n    &#34;&#34;\n  ],\n  &#34;releases&#34;: [\n    {\n      &#34;version&#34;: &#34;2012/02/08&#34;,\n      &#34;integrity&#34;: {\n        &#34;archive&#34;: &#34;sha384-TOIQ2fFZCzAYkISBNkLNZ1g5aVBeF6tGyvFqC4uGhjEHreqrXV1skZzFDnobUkOL&#34;,\n        &#34;file&#34;: [\n          {\n            &#34;target&#34;: &#34;script/NoyasekiyaP/@花火.anm&#34;,\n            &#34;hash&#34;: &#34;sha384-dhy/Ht5rKRGbXE2fhfossqGDxNNJgTe9kjs+SALlWCDz2dK48JOS2EnZzU1Gj3dy&#34;\n          }\n        ]\n      }\n    }\n  ]\n}</textarea>"
          }
        },
        "8cb26a2c016c4672aef60f03fbe209bf": {
          "model_module": "@jupyter-widgets/base",
          "model_name": "LayoutModel",
          "model_module_version": "1.2.0",
          "state": {
            "_model_module": "@jupyter-widgets/base",
            "_model_module_version": "1.2.0",
            "_model_name": "LayoutModel",
            "_view_count": null,
            "_view_module": "@jupyter-widgets/base",
            "_view_module_version": "1.2.0",
            "_view_name": "LayoutView",
            "align_content": null,
            "align_items": null,
            "align_self": null,
            "border": null,
            "bottom": null,
            "display": null,
            "flex": null,
            "flex_flow": null,
            "grid_area": null,
            "grid_auto_columns": null,
            "grid_auto_flow": null,
            "grid_auto_rows": null,
            "grid_column": null,
            "grid_gap": null,
            "grid_row": null,
            "grid_template_areas": null,
            "grid_template_columns": null,
            "grid_template_rows": null,
            "height": null,
            "justify_content": null,
            "justify_items": null,
            "left": null,
            "margin": null,
            "max_height": null,
            "max_width": null,
            "min_height": null,
            "min_width": null,
            "object_fit": null,
            "object_position": null,
            "order": null,
            "overflow": null,
            "overflow_x": null,
            "overflow_y": null,
            "padding": null,
            "right": null,
            "top": null,
            "visibility": null,
            "width": null
          }
        },
        "39f37649ed624ec0811f3917aecadcca": {
          "model_module": "@jupyter-widgets/controls",
          "model_name": "DescriptionStyleModel",
          "model_module_version": "1.5.0",
          "state": {
            "_model_module": "@jupyter-widgets/controls",
            "_model_module_version": "1.5.0",
            "_model_name": "DescriptionStyleModel",
            "_view_count": null,
            "_view_module": "@jupyter-widgets/base",
            "_view_module_version": "1.2.0",
            "_view_name": "StyleView",
            "description_width": ""
          }
        }
      }
    }
  },
  "nbformat": 4,
  "nbformat_minor": 0
}